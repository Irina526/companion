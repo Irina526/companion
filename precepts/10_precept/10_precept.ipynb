{
 "cells": [
  {
   "cell_type": "markdown",
   "metadata": {},
   "source": [
    "# ORF307 Precept 10"
   ]
  },
  {
   "cell_type": "markdown",
   "metadata": {},
   "source": [
    "## Midterm 2\n",
    "\n",
    "- Piecewise linear optimization\n",
    "- Geometry and the simplex method\n",
    "- Duality and sensitivity analysis\n",
    "- Network optimization\n",
    "- Interior-point method"
   ]
  },
  {
   "cell_type": "markdown",
   "metadata": {},
   "source": [
    "## Piecewise linear optimiztion"
   ]
  },
  {
   "cell_type": "markdown",
   "metadata": {},
   "source": [
    "- vector norms\n",
    "- Turning vector norm problems in LPs"
   ]
  },
  {
   "cell_type": "markdown",
   "metadata": {},
   "source": [
    "## Geometry and simplex method"
   ]
  },
  {
   "cell_type": "markdown",
   "metadata": {},
   "source": [
    "- Extreme points\n",
    "- Basic feasible solution\n",
    "- Standard form\n",
    "- Feasible directions\n",
    "- Reduced costs\n",
    "- Optimality conditions\n",
    "\n",
    "\n",
    "- An iteration of the simplex method\n",
    "- Phase I/phase II\n",
    "- Degeneracy/cycling"
   ]
  },
  {
   "cell_type": "markdown",
   "metadata": {},
   "source": [
    "## Duality and sensitivity analysis"
   ]
  },
  {
   "cell_type": "markdown",
   "metadata": {},
   "source": [
    "- Dual problem of standard form LP\n",
    "- weak and strong duality\n",
    "- Relationship between primal and dual ($p^\\star, d^\\star$)\n",
    "- complementary slackness\n",
    "- KKT conditions\n",
    "- Farkas lemma\n",
    "\n",
    "\n",
    "- Primal and dual simplex\n",
    "- Adding variables and constraints\n",
    "- Global sensitivity\n",
    "- Local sensitiviey"
   ]
  },
  {
   "cell_type": "markdown",
   "metadata": {},
   "source": [
    "## Network optimization"
   ]
  },
  {
   "cell_type": "markdown",
   "metadata": {},
   "source": [
    "- Arc-node incidence matrix\n",
    "- Minimum cost network flow problem\n",
    "- Integrety theorem"
   ]
  },
  {
   "cell_type": "markdown",
   "metadata": {},
   "source": [
    "## Interior-point method"
   ]
  },
  {
   "cell_type": "markdown",
   "metadata": {},
   "source": [
    "- Newton's Method\n",
    "- LP as a root finding problem\n",
    "- The central path\n",
    "- Mehrotra predictor-corrector algorithm"
   ]
  },
  {
   "cell_type": "markdown",
   "metadata": {},
   "source": [
    "## Q1 \n",
    "An $n$ x $n$ matrix is called column-stochastic if all its entries are non-negative and the sum of the entries in each column is equal to $1$. In other words, $P$ is column-stochastic if $$P_{ij} \\geq 0,\\quad i,j = 1, \\dots n, \\quad \\mbox{equivalently}\\quad P \\ge 0,$$ and $$\\sum_{i=1}^n P_{ij} = 1,\\quad j = 1, \\dots n,\\quad \\mbox{equivalently} \\quad P^T \\mathbf{1} = \\mathbf{1}.$$"
   ]
  },
  {
   "cell_type": "markdown",
   "metadata": {},
   "source": [
    "(a) Show that if $P$ is column-stochastic, then for any vector $x$ we have \n",
    "$$(P^Tx)_i \\leq x_{\\max},$$ \n",
    "where $x_{\\max} = \\max_i x_i$ is the largest entry of $x$. In other words, we have $\\mathbf{1} x_{\\rm max} \\ge P^Tx$."
   ]
  },
  {
   "cell_type": "markdown",
   "metadata": {},
   "source": [
    "(b) Assume that $P$ is column-stochastic. Show using LP duality that there exists a $y \\in \\mathbf{R}^n$ such that $$ Py = y,\\quad y \\ge 0,\\quad \\mathbf{1}^Ty = 1. $$ Hint: write an LP and its dual, and analyze the feasibility/unboundedness using the result in 1."
   ]
  },
  {
   "cell_type": "markdown",
   "metadata": {},
   "source": [
    "## Q2 \n",
    "Consider the problem \n",
    "$$ \n",
    "\\begin{array}{ll} \\mbox{minimize} & -2x_1 - x_2 \\\\\n",
    "\\mbox{subject to} & x_1 - x_2 \\leq 2 \\\\\n",
    "& x_1 + x_2 \\leq 6 \\\\ \n",
    "& x_1, x_2 \\geq 0 \\end{array} \n",
    "$$"
   ]
  },
  {
   "cell_type": "markdown",
   "metadata": {},
   "source": [
    "(a) Convert the problem into standard form and construct a basic feasible solution at which $(x_1, x_2) = (0, 0)$ "
   ]
  },
  {
   "cell_type": "markdown",
   "metadata": {},
   "source": [
    "(b) Carry out one iteration of the simplex method. Report the values for $\\bar{c}$, $\\theta$, $d$, and $x$ (including any additional variables you added to make it into standard form) in each iteration. You can use any programming language or calculator to help you with the computations."
   ]
  },
  {
   "cell_type": "markdown",
   "metadata": {},
   "source": [
    "(c) Compute the next $\\bar{c}$. What would you do if you wanted to complete the simplex method?"
   ]
  }
 ],
 "metadata": {
  "kernelspec": {
   "display_name": "py38",
   "language": "python",
   "name": "py38"
  },
  "language_info": {
   "codemirror_mode": {
    "name": "ipython",
    "version": 3
   },
   "file_extension": ".py",
   "mimetype": "text/x-python",
   "name": "python",
   "nbconvert_exporter": "python",
   "pygments_lexer": "ipython3",
   "version": "3.8.5"
  }
 },
 "nbformat": 4,
 "nbformat_minor": 4
}
