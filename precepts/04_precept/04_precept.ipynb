{
  "nbformat": 4,
  "nbformat_minor": 0,
  "metadata": {
    "colab": {
      "name": "04_precept.ipynb",
      "provenance": [],
      "collapsed_sections": [],
      "toc_visible": true
    },
    "kernelspec": {
      "display_name": "Python 3",
      "language": "python",
      "name": "python3"
    },
    "language_info": {
      "codemirror_mode": {
        "name": "ipython",
        "version": 3
      },
      "file_extension": ".py",
      "mimetype": "text/x-python",
      "name": "python",
      "nbconvert_exporter": "python",
      "pygments_lexer": "ipython3",
      "version": "3.6.5"
    },
    "toc": {
      "base_numbering": 1,
      "nav_menu": {},
      "number_sections": true,
      "sideBar": true,
      "skip_h1_title": false,
      "title_cell": "Table of Contents",
      "title_sidebar": "Contents",
      "toc_cell": false,
      "toc_position": {},
      "toc_section_display": true,
      "toc_window_display": false
    }
  },
  "cells": [
    {
      "cell_type": "markdown",
      "metadata": {
        "id": "Gsnjp8wx3IY2"
      },
      "source": [
        "# ORF307 Precept 4"
      ]
    },
    {
      "cell_type": "markdown",
      "metadata": {
        "id": "Hq4JYmfy3Onp"
      },
      "source": [
        "# Q1 Approximate solution of linear equations with multiple righthand sides"
      ]
    },
    {
      "cell_type": "markdown",
      "metadata": {
        "id": "b1zEN1hC3UlZ"
      },
      "source": [
        "Suppose $A$ is a square invertible matrix. We seek $x$ for which $Ax$ approximates\u0019 $b_i, i = 1,\\dots,k$. In other words, we wish to find a value of $x$ that approximately solves the systems of equations $Ax = b_1,\\dots,Ax = b_k$. Two colleagues offer suggestions about how to accomplish this.\n",
        "\n",
        "*   Your colleague Bob proposes a multi-objective least squares approach: choose $x$ to minimize $$\\lVert Ax-b_1 \\rVert^2 + \\dots + \\lVert Ax-b_k \\rVert^2.$$\n",
        "*   Alice, another colleague, proposes the following method: \ffirst average the righthand sides to get $b = (1/k)(b_1 + \\dots + b_k)$, and then choose $x$ by solving one system of linear equations $Ax = b$.\n",
        "\n",
        "Oscar, a third colleague, says that the two approaches sound different but always end up with the same choice of $x$. Is Oscar right? Justify your answer, *i.e.*, either explain why the two approaches always give the same $x$, or give a speci\ffic counter-example where they do not."
      ]
    },
    {
      "cell_type": "markdown",
      "metadata": {
        "id": "zYh1ueHJ3cCp"
      },
      "source": [
        "# Q2 Varying the righthand sides in linearly constrained least squares"
      ]
    },
    {
      "cell_type": "markdown",
      "metadata": {
        "id": "EP7o_Cwm3gsy"
      },
      "source": [
        "Suppose $\\hat{x}$ minimizes $\\lVert Ax - b \\rVert^2$ subject to $Cx = d$. (You can assume that the associated KKT matrix is invertible.) We can think\n",
        "of $\\hat{x}$ as a function of $b$ and $d$ (which are called the righthand sides of the linearly constrained least squares problem). A colleague asserts that $\\hat{x}$ is a linear function of $b$ and $d$, and so has the form $\\hat{x} = Fb + Gd$ for some appropriate matrices $F$ and $G$. Is she right? If not, give a counter-example. If so, justify your answer and explain how to \ffind the\n",
        "matrices $F$ and $G$."
      ]
    },
    {
      "cell_type": "markdown",
      "metadata": {
        "id": "GblZo__Y3wKT"
      },
      "source": [
        "# Q3 Nearest vector with a given average"
      ]
    },
    {
      "cell_type": "markdown",
      "metadata": {
        "id": "V5UoWzMs3xyb"
      },
      "source": [
        "Let $a$ be an $n$-vector and $\\beta$ a scalar. How would you\n",
        "find the $n$-vector $x$ that is closest to $a$ among all n-vectors that have average value $\\beta$?\n",
        "Give a formula for $x$ and describe it in English."
      ]
    },
    {
      "cell_type": "markdown",
      "metadata": {
        "id": "aZKhQf205fvh"
      },
      "source": [
        "# Q4 Rendezvous"
      ]
    },
    {
      "cell_type": "markdown",
      "metadata": {
        "id": "HRqhXxiY5fvh"
      },
      "source": [
        "The dynamics of two vehicles, at sampling times $t=1,2, \\ldots$,\n",
        "are given by\n",
        "$$\n",
        "x_{t+1} = Ax_t+Bu_t, \\qquad\n",
        "z_{t+1} = Az_t+Bv_t\n",
        "$$\n",
        "where the $n$-vectors $x_t$ and $z_t$ are the states of vehicles 1 and 2,\n",
        "and the $m$-vectors $u_t$ and $v_t$ are the inputs of vehicles 1 and 2.\n",
        "The $n \\times n$ matrix $A$ and the $n \\times m$ matrix\n",
        "$B$ are known.\n",
        "\n",
        "The position of vehicle 1 at time $t$ is given by $Cx_t$, where $C$ is a known $2 \\times n$ matrix. Similarly, the position of vehicle 2 at time $t$ is given by $Cz_t$.\n",
        "\n",
        "The initial states of the two vehicles are fixed and given:\n",
        "$$\n",
        "x_1 = x_{\\mathrm{start}}, \\qquad\n",
        "z_1 = z_{\\mathrm{start}}.\n",
        "$$\n",
        "We are interested in finding a sequence of inputs for the two vehicles\n",
        "over the time interval $t=1, \\ldots, T-1$ so that they\n",
        "rendezvous at time $t=T$,\n",
        "\\ie, $x_T=z_T$.\n",
        "You can select the inputs to the two vehicles,\n",
        "$$\n",
        "u_1, u_2, \\ldots, u_{T-1}, \\qquad\n",
        "v_1, v_2, \\ldots, v_{T-1}.\n",
        "$$\n",
        "Among choices of the sequences $u_1, \\ldots, u_{T-1}$ and $v_1, \\ldots, v_{T-1}$\n",
        "that satisfy the rendezvous condition,\n",
        "we want the one that minimizes the weighted sum of squares of\n",
        "the two vehicle inputs,\n",
        "$$\n",
        "J = \\sum_{t=1}^{T-1}\\|u_t\\|^2 + \\lambda \\sum_{t=1}^{T-1}\\|v_t\\|^2,\n",
        "$$\n",
        "where $\\lambda > 0$ is a parameter that trades off the two objectives."
      ]
    },
    {
      "cell_type": "markdown",
      "metadata": {
        "id": "LI2fBfpn5fvi"
      },
      "source": [
        "(a) Explain how to find the sequences $u_1, \\ldots, u_{T-1}$ and $v_1, \\ldots, v_{T-1}$ that minimize $J$ while satisfying the rendezvous condition by solving a constrained least-squares problem."
      ]
    },
    {
      "cell_type": "markdown",
      "metadata": {
        "id": "CAJhdx9M5fvi"
      },
      "source": [
        "(b) The problem data $A$, $B$, $C$, $x_{\\mathrm{start}}$, and $z_{\\mathrm{start}}$ are defined below. Use **CVXPY** to find $u_1, \\ldots, u_{T-1}$ and $v_1, \\ldots, v_{T-1}$ for $\\lambda=0.1$, $\\lambda=1$, and $\\lambda=10$. Plot the vehicle trajectories (i.e., their positions) for each $\\lambda$."
      ]
    },
    {
      "cell_type": "markdown",
      "metadata": {
        "id": "AzE9b_DD5fvj"
      },
      "source": [
        "(c) Give a simple expression for $x_T$ in the limit where $\\lambda \\to \\infty$ and for $z_T$ in the limit where $\\lambda \\to 0$. Assume that for any $w \\in \\mathbb{R}^n$ there exist sequences $u_1, \\ldots, u_{T-1}$ and $v_1, \\ldots, v_{T-1}$ such that the rendezvous constraints are satisfied with $w = z_T = x_T$."
      ]
    },
    {
      "cell_type": "markdown",
      "metadata": {
        "id": "BeLsfFEW5fvj"
      },
      "source": [
        "<font size=\"5\">**Solution**<font>"
      ]
    },
    {
      "cell_type": "markdown",
      "metadata": {
        "id": "z10sbumh5fvj"
      },
      "source": [
        "(a) We find $u_1, \\ldots, u_{T-1}$ and $v_1, \\ldots, v_{T-1}$ by solving the constrained least-squares problem\n",
        "$$\n",
        "\\begin{array}{ll}\n",
        "\\mbox{minimize} & \\sum_{t=1}^{T-1} \\|u_t\\|^2 + \\lambda \\sum_{t=1}^{T-1} \\|v_t\\|^2 \\\\\n",
        "\\mbox{subject to} & x_{t+1} = Ax_t + Bu_t, \\qquad t \\in 1,\\ldots,T-1 \\\\\n",
        "& z_{t+1} = Az_t + Bv_t, \\qquad t \\in 1,\\ldots,T-1 \\\\\n",
        "& x_1 = x_{\\mathrm{start}} \\\\\n",
        "& z_1 = z_{\\mathrm{start}} \\\\\n",
        "& x_T = z_T.\n",
        "\\end{array}\n",
        "$$"
      ]
    },
    {
      "cell_type": "markdown",
      "metadata": {
        "id": "-bC0aVO65fvj"
      },
      "source": [
        "(b) "
      ]
    },
    {
      "cell_type": "code",
      "metadata": {
        "id": "_E1VV6CK5fvk"
      },
      "source": [
        "import numpy as np\n",
        "import cvxpy as cp\n",
        "import matplotlib.pyplot as plt\n",
        "\n",
        "# See https://www.cvxpy.org/index.html for more details about CVXPY\n",
        "\n",
        "def Rendezvous_solver(lamb = 0.1):\n",
        "    \n",
        "    m = 4\n",
        "    T = 200\n",
        "    h = 0.1\n",
        "    eta = 0.05\n",
        "    A = np.matrix([[1, 0, h, 0], [0, 1, 0, h], [0, 0, 1 - (eta * h)/m, 0], [0, 0, 0, 1 - (eta * h)/m]])\n",
        "    B = np.matrix([[0, 0], [0, 0], [h/m, 0], [0, h]])\n",
        "    C = np.matrix([[1, 0, 0, 0], [0, 1, 0, 0]])\n",
        "\n",
        "    # Starting conditions\n",
        "    x_start = np.array([0, 0, -5, 0])\n",
        "    z_start = np.array([10, 10, 0, -5])\n",
        "    \n",
        "    # Define variables\n",
        "    u, v = cp.Variable((2, T - 1)), cp.Variable((2, T - 1))\n",
        "    x, z = cp.Variable((4, T)), cp.Variable((4, T))\n",
        "\n",
        "    # Define objective\n",
        "    objective = cp.Minimize(cp.sum_squares(u) + lamb * cp.sum_squares(v))\n",
        "\n",
        "    # Define constraints\n",
        "    constraints = [x[:, 0] == x_start.T, z[:, 0] == z_start.T, x[:, T - 1] == z[:, T - 1]]\n",
        "    for i in range(T - 1):\n",
        "        constraints += [x[:, i + 1] == A @ x[:, i] + B @ u[:, i],\\\n",
        "                        z[:, i + 1] == A @ z[:, i] + B @ v[:, i]]\n",
        "\n",
        "    # Solve\n",
        "    prob = cp.Problem(objective, constraints)\n",
        "    prob.solve()\n",
        "    \n",
        "    return x.value, z.value"
      ],
      "execution_count": 16,
      "outputs": []
    },
    {
      "cell_type": "code",
      "metadata": {
        "colab": {
          "base_uri": "https://localhost:8080/",
          "height": 282
        },
        "id": "j2CUHG-J5fvl",
        "outputId": "f554dbd6-55d1-45a0-c33d-2704f24ca846"
      },
      "source": [
        "# Plot with lambda = 0.1\n",
        "x, z = Rendezvous_solver(lamb = 0.1)\n",
        "C = np.matrix([[1, 0, 0, 0], [0, 1, 0, 0]])\n",
        "x_position = C @ x\n",
        "z_position = C @ z\n",
        "plt.plot(x_position[0].A1, x_position[1].A1, label='x')\n",
        "plt.plot(z_position[0].A1, z_position[1].A1, label='z')\n",
        "plt.legend()"
      ],
      "execution_count": 17,
      "outputs": [
        {
          "output_type": "execute_result",
          "data": {
            "text/plain": [
              "<matplotlib.legend.Legend at 0x7f4a29a04e10>"
            ]
          },
          "metadata": {
            "tags": []
          },
          "execution_count": 17
        },
        {
          "output_type": "display_data",
          "data": {
            "image/png": "[encoded data removed]",
            "text/plain": [
              "<Figure size 432x288 with 1 Axes>"
            ]
          },
          "metadata": {
            "tags": [],
            "needs_background": "light"
          }
        }
      ]
    },
    {
      "cell_type": "code",
      "metadata": {
        "colab": {
          "base_uri": "https://localhost:8080/",
          "height": 282
        },
        "id": "gwDLgX9z5fvl",
        "outputId": "91d7c8a7-b4c9-40bd-8d7b-3312774aaf84"
      },
      "source": [
        "x, z = Rendezvous_solver(lamb = 1)\n",
        "C = np.matrix([[1, 0, 0, 0], [0, 1, 0, 0]])\n",
        "x_position = C @ x\n",
        "z_position = C @ z\n",
        "plt.plot(x_position[0].A1, x_position[1].A1, label='x')\n",
        "plt.plot(z_position[0].A1, z_position[1].A1, label='z')\n",
        "plt.legend()"
      ],
      "execution_count": 18,
      "outputs": [
        {
          "output_type": "execute_result",
          "data": {
            "text/plain": [
              "<matplotlib.legend.Legend at 0x7f4a299ff8d0>"
            ]
          },
          "metadata": {
            "tags": []
          },
          "execution_count": 18
        },
        {
          "output_type": "display_data",
          "data": {
            "image/png": "[encoded data removed]",
            "text/plain": [
              "<Figure size 432x288 with 1 Axes>"
            ]
          },
          "metadata": {
            "tags": [],
            "needs_background": "light"
          }
        }
      ]
    },
    {
      "cell_type": "code",
      "metadata": {
        "colab": {
          "base_uri": "https://localhost:8080/",
          "height": 282
        },
        "id": "7Hesc3LV5fvm",
        "outputId": "b1e4e833-cb77-486c-ba5c-0713ce5281bf"
      },
      "source": [
        "x, z = Rendezvous_solver(lamb = 10)\n",
        "C = np.matrix([[1, 0, 0, 0], [0, 1, 0, 0]])\n",
        "x_position = C @ x\n",
        "z_position = C @ z\n",
        "plt.plot(x_position[0].A1, x_position[1].A1, label='x')\n",
        "plt.plot(z_position[0].A1, z_position[1].A1, label='z')\n",
        "plt.legend()"
      ],
      "execution_count": 11,
      "outputs": [
        {
          "output_type": "execute_result",
          "data": {
            "text/plain": [
              "<matplotlib.legend.Legend at 0x7ffb47b0a890>"
            ]
          },
          "metadata": {
            "tags": []
          },
          "execution_count": 11
        },
        {
          "output_type": "display_data",
          "data": {
            "image/png": "[encoded data removed]",
            "text/plain": [
              "<Figure size 432x288 with 1 Axes>"
            ]
          },
          "metadata": {
            "tags": [],
            "needs_background": "light"
          }
        }
      ]
    },
    {
      "cell_type": "markdown",
      "metadata": {
        "id": "SDymcBDr5fvm"
      },
      "source": [
        "(c) As $\\lambda \\to \\infty$, the optimal $v \\to 0$. Thus in the limit $v = 0$ and $z_T = A^{T-1}z_{\\mathrm{start}}$. This solution is valid because we assume that there is some sequence $u_1, \\ldots, u_{T-1}$ such that $x_T = A^{T-1}z_{\\mathrm{start}}$.\n",
        "\n",
        "We can divide the objective in (a) by $\\lambda$ and obtain the equivalent constrained least-squares problem\n",
        "$$\n",
        "\\begin{array}{ll}\n",
        "\\mbox{minimize} & (1/\\lambda)\\sum_{t=1}^{T-1} \\|u_t\\|^2 + \\sum_{t=1}^{T-1} \\|v_t\\|^2 \\\\\n",
        "\\mbox{subject to} & x_{t+1} = Ax_t + Bu_t, \\qquad t \\in 1,\\ldots,T-1 \\\\\n",
        "& z_{t+1} = Az_t + Bv_t, \\qquad t \\in 1,\\ldots,T-1 \\\\\n",
        "& x_1 = x_{\\mathrm{start}} \\\\\n",
        "& z_1 = z_{\\mathrm{start}} \\\\\n",
        "& x_T = z_T,\n",
        "\\end{array}\n",
        "$$\n",
        "Certainly as $\\lambda \\to 0$, $1/\\lambda \\to \\infty$ and the optimal $u \\to 0$. Thus in the limit $u = 0$ and $x_T = A^{T-1}x_{\\mathrm{start}}$. Again, this solution is valid because we assume that there is some sequence $v_1, \\ldots, v_{T-1}$ such that $z_T = A^{T-1}x_{\\mathrm{start}}$."
      ]
    }
  ]
}