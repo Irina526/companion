{
 "cells": [
  {
   "cell_type": "markdown",
   "metadata": {
    "id": "TvpF7wM34qK4"
   },
   "source": [
    "# ORF307 Precept 9\n"
   ]
  },
  {
   "cell_type": "markdown",
   "metadata": {
    "id": "RV9lH1Ce49rm"
   },
   "source": [
    "## Optimality Conditions Review\n",
    "primal and dual solutions are optimal if and only if the following are true:\n",
    "\n",
    "\n",
    "1.   $x$ is primal feasible\n",
    "2.   $y$ is dual feasible\n",
    "3.   duality gap is zero\n",
    "\n"
   ]
  },
  {
   "cell_type": "markdown",
   "metadata": {
    "id": "7tiTvyfL5bYS"
   },
   "source": [
    "## Primal and Dual Simplex Takeaways\n",
    "\n",
    "\n",
    "\n",
    "*   Primal simplex maintains primal feasibility and duality gap of zero, dual becomes feasible when converges\n",
    "*   Dual simplex maintains dual feasibility and dualitgy gap of zero, primal becomes feasible when converges\n",
    "\n"
   ]
  },
  {
   "cell_type": "markdown",
   "metadata": {
    "id": "Fzilee-z52jQ"
   },
   "source": [
    "## Sensitivity Analysis - Adding a New Variable\n",
    "\n",
    "\n",
    "1.   $(x^*,0)$ is still primal feasible\n",
    "2.   Dual problem has an extra constraint, is $A^T_{n+1}y^* + c_{n+1} \\ge 0$ still dual feasible? \n",
    "3.   If yes, $(x^*,0)$ is still optimal; If no, run primal simplex.\n",
    "\n"
   ]
  },
  {
   "cell_type": "markdown",
   "metadata": {
    "id": "TPUQA6Xi5_TE"
   },
   "source": [
    "## Sensitivity Analysis - Adding a New Constraint\n",
    "\n",
    "1.   Translates to having extra variable in dual problem, thus $(y^*,0)$ is still dual feasible\n",
    "2.   Is $a^T_{m+1} x^* = b_{m+1}$ still primal feasible?\n",
    "3.   If yes, $(y^*,0)$ is still optimal; If no, run dual simplex."
   ]
  },
  {
   "cell_type": "markdown",
   "metadata": {
    "id": "kMnP6RzM6BuL"
   },
   "source": [
    "## Global/Local Sensitivity Analysis - Changing the Data"
   ]
  },
  {
   "cell_type": "markdown",
   "metadata": {
    "id": "uyYE98Gn2NAL"
   },
   "source": [
    "## Example 1"
   ]
  },
  {
   "cell_type": "markdown",
   "metadata": {
    "id": "herOAa7E2R5s"
   },
   "source": [
    "Consider the problem\n",
    "\n",
    "$$\n",
    "\\begin{array}{ll}\n",
    "\\mbox{minimize} &-5x_1 - x_2 + 12x_3\\\\\n",
    "\\text{subject to} &3x_1 + 2x_2 + x_3 = 10\\\\\n",
    "&5x_1 + 3x_2 + x_4 = 16\\\\\n",
    "&x_1, \\dots, x_4 \\ge 0.\n",
    "\\end{array}\n",
    "$$\n",
    "\n",
    "An optimal solution to this problem is given by $x=(2,2,0,0)$. Suppose we change $a_{11}$ from 3 to $3 + \\delta$. Keeping $x_1$ and $x_2$ as the basic variables, and let $A_B(\\delta)$ be the corresponding basis matrix, as a function of $\\delta$.\n"
   ]
  },
  {
   "cell_type": "markdown",
   "metadata": {
    "id": "TfdR1xfF8IfQ"
   },
   "source": [
    "(a) Compute $A_B(\\delta)^{-1}b$. For which values of $\\delta$ is $A_B(\\delta)$ a feasible basis?\n",
    "\n",
    "(b) Compute $c_B^TA_B(\\delta)^{-1}$. For which values of $\\delta$ is $A_B(\\delta)$ an optimal basis?"
   ]
  },
  {
   "cell_type": "markdown",
   "metadata": {
    "id": "KX-V_cAJ6PmM"
   },
   "source": [
    "## Network Flows - Arc-Node Incidence Matrix\n",
    "\n",
    "$m$ x $n$ matrix $A$ with entries\n",
    "\n",
    "$$\n",
    "\\begin{align}\n",
    "A_{ij} = \\begin{cases}\n",
    "1 &\\mbox{if arc $j$ starts at node $i$}\\\\\n",
    "-1 &\\mbox{if arc $j$ starts at node $i$}\\\\\n",
    "0 &\\mbox{otherwise}\n",
    "\\end{cases}\n",
    "\\end{align}.\n",
    "$$\n",
    "\n",
    "Each column has one -1 and one 1"
   ]
  },
  {
   "cell_type": "markdown",
   "metadata": {
    "id": "DJ1AgY_X8HwA"
   },
   "source": [
    "## Network Flows - Total Unimodularity\n",
    "\n",
    "*   A matrix is totally unimodular if all its minors are -1, 0 or 1\n",
    "*   Key property: the inverse of an nonsingular square submatrix of A has entires +1, -1, or 0\n",
    "*   Above property, along with $b$ being an integer vector implies all the extreme points of the polyhedron $P = \\{x \\in \\mathbf{R}^n \\vert Ax=b, \\mkern9mu x\\ge0\\}$ are integer vectors"
   ]
  },
  {
   "cell_type": "markdown",
   "metadata": {},
   "source": []
  },
  {
   "cell_type": "markdown",
   "metadata": {
    "id": "UrCEJ2-N3nGp"
   },
   "source": [
    "## Example 2"
   ]
  },
  {
   "cell_type": "markdown",
   "metadata": {
    "id": "oJE6TX4k3pYt"
   },
   "source": [
    "A catering company must provide to a client $r_i$ tablecloths on each of $N$ consecutive days. The catering company can buy new tablecloths at a price of $p$ dollars each, or launder the used ones. Laundering can be done at a fast service facility that makes the tablecloths unavailable for the next $n$ days and cost $f$ dollars per tablecloth, or at a slower facility that makes tablecloths unavailable for the next $m$ days (with $m > n$) at a cost of $g$ dollars per tablecloth ($g<f$). The caterer's problem is to decide how to meet the client's demand at minimum cost, starting with no tablecloths and under the assumption that any leftover tablecloths have no value. Show that the problem can be formulated as a network flow problem.\n"
   ]
  }
 ],
 "metadata": {
  "colab": {
   "collapsed_sections": [],
   "name": "ORF307_Precept9",
   "provenance": []
  },
  "kernelspec": {
   "display_name": "Python 3",
   "language": "python",
   "name": "python3"
  },
  "language_info": {
   "codemirror_mode": {
    "name": "ipython",
    "version": 3
   },
   "file_extension": ".py",
   "mimetype": "text/x-python",
   "name": "python",
   "nbconvert_exporter": "python",
   "pygments_lexer": "ipython3",
   "version": "3.7.3"
  }
 },
 "nbformat": 4,
 "nbformat_minor": 1
}
