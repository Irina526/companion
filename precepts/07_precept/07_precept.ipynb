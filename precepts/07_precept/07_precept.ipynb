{
 "cells": [
  {
   "cell_type": "markdown",
   "metadata": {},
   "source": [
    "# ORF307 Precept 6"
   ]
  },
  {
   "cell_type": "markdown",
   "metadata": {},
   "source": [
    "## Standard form polyhedra"
   ]
  },
  {
   "cell_type": "markdown",
   "metadata": {},
   "source": [
    "\\begin{aligned}\n",
    "\\begin{array}{ll} \\mbox{minimize} & c^T x \\\\ \n",
    "\\mbox{subject to} & Ax = b \\\\\n",
    "& x \\geq 0 \\\\\n",
    "\\end{array}\n",
    "\\end{aligned}"
   ]
  },
  {
   "cell_type": "markdown",
   "metadata": {},
   "source": [
    "## Feasible direction"
   ]
  },
  {
   "cell_type": "markdown",
   "metadata": {},
   "source": [
    "$P= \\{x|Ax=b, x\\geq 0\\}$. Let $x\\in P$, a vector $d$ is a **feasible direction** at $x$ if $\\exists \\theta > 0$ for which $x + \\theta d\\in P$.\n",
    "- $Ad=0$\n",
    "- $x + \\theta d\\geq 0$"
   ]
  },
  {
   "cell_type": "markdown",
   "metadata": {},
   "source": [
    "## Basic feasible solution"
   ]
  },
  {
   "cell_type": "markdown",
   "metadata": {},
   "source": [
    "Given a basis matrix $A_B=[A_{B(1)} \\ldots A_{B(m)}]$, a basic feasible solution $x$ satisfies\n",
    "- $A_Bx_B=b$\n",
    "- $x_i=0, \\forall i \\not = B(1), \\ldots, B(m)$"
   ]
  },
  {
   "cell_type": "markdown",
   "metadata": {},
   "source": [
    "## Reduced costs"
   ]
  },
  {
   "cell_type": "markdown",
   "metadata": {},
   "source": [
    "Change in objective/marginal cost of adding $x_j$ to the basis\n",
    "$$\n",
    "\\bar{c}_j = c_j - c_B^TA_B^{-1}A_j,\\notag\n",
    "$$\n",
    "where $c_j$ is the cost per-unit increase of variable $x_j$, and $c_j - c_B^TA_B^{-1}A_j$ is the cost to change other variables compensating for $x_j$ to enforce $Ax=b$.\n",
    "- $\\bar{c}_j > 0$: adding $x_j$ will increase the objective\n",
    "- $\\bar{c}_j < 0$: adding $x_j$ will decrease the objective"
   ]
  },
  {
   "cell_type": "markdown",
   "metadata": {},
   "source": [
    "## Moving to a new basis"
   ]
  },
  {
   "cell_type": "markdown",
   "metadata": {},
   "source": [
    "## Optimality conditions"
   ]
  },
  {
   "cell_type": "markdown",
   "metadata": {},
   "source": [
    "Consider the problem of minimizing $c^Tx$ over a polyhedron $P$. Prove the following:"
   ]
  },
  {
   "cell_type": "markdown",
   "metadata": {},
   "source": [
    "(a) A feasible solution $x$ is optimal if and only if $c^Td \\geq 0$ for every feasible direction $d$ at $x$."
   ]
  },
  {
   "cell_type": "markdown",
   "metadata": {},
   "source": [
    "(b) A feasible solution $x$ is the unique optimal solution if and only if $c^Td > 0$ for every nonzero feasible direction $d$ at $x$."
   ]
  },
  {
   "cell_type": "markdown",
   "metadata": {},
   "source": [
    "## Two-phase simplex method"
   ]
  },
  {
   "cell_type": "markdown",
   "metadata": {},
   "source": [
    "auxiliary problem"
   ]
  },
  {
   "cell_type": "markdown",
   "metadata": {},
   "source": [
    "\\begin{aligned}\n",
    "\\begin{array}{ll} \\mbox{minimize} & \\mathbf{1}^T y \\\\ \n",
    "\\mbox{subject to} & Ax + y = b \\\\\n",
    "& x, y \\geq 0 \\\\\n",
    "\\end{array}\n",
    "\\end{aligned}"
   ]
  },
  {
   "cell_type": "markdown",
   "metadata": {},
   "source": [
    "**Phase I**\n",
    "- Construct **auxiliary problem** such that $b\\geq 0$\n",
    "- Solve auxiliary porblem using simplex method starting from $(x, y) = (0, b)$\n",
    "- If the optimal value is greater that 0, **preoblem infeasible**. **break**.\n",
    "\n",
    "**Phase II**\n",
    "- Recover original problem (drop variables $y$ and restore original cost)\n",
    "- Solve original problem starting from the solution $x$ and its basis $B$"
   ]
  },
  {
   "cell_type": "markdown",
   "metadata": {},
   "source": [
    "## Degeneracy and cycling"
   ]
  },
  {
   "cell_type": "markdown",
   "metadata": {},
   "source": [
    "\\begin{aligned}\n",
    "\\begin{array}{ll} \\mbox{minimize} & -2x_1 - x_2 \\\\ \n",
    "\\mbox{subject to} & x_1 + x_2 + x_3 = 1 \\\\\n",
    "& - x_1 + x_2 - x_3 = 1 \\\\\n",
    "& x_1, x_2, x_3 \\geq 0.\n",
    "\\end{array}\n",
    "\\end{aligned}"
   ]
  },
  {
   "cell_type": "markdown",
   "metadata": {},
   "source": [
    "- Basis $B=\\{1, 2\\} \\rightarrow x=(0, 1, 0)$\n",
    "- Basis $B=\\{2, 3\\} \\rightarrow x=(0, 1, 0)$\n",
    "\n",
    "same solution and cost but different basis"
   ]
  },
  {
   "cell_type": "markdown",
   "metadata": {},
   "source": [
    "## Bland's rule to avoid cycles"
   ]
  },
  {
   "cell_type": "markdown",
   "metadata": {},
   "source": [
    "If we use the **smallest** index rule for choosing both the $j$ entering the basis and the $i$ leaving the basis, then **no cycling will occur**."
   ]
  },
  {
   "cell_type": "markdown",
   "metadata": {},
   "source": [
    "## Simplex method example"
   ]
  },
  {
   "cell_type": "markdown",
   "metadata": {},
   "source": [
    "Consider the problem "
   ]
  },
  {
   "cell_type": "markdown",
   "metadata": {},
   "source": [
    "\\begin{aligned}\n",
    "\\begin{array}{ll} \\mbox{minimize} & -2x_1 - x_2 \\\\ \n",
    "\\mbox{subject to} & x_1 - x_2 \\leq 2 \\\\\n",
    "& x_1 + x_2 \\leq 6 \\\\\n",
    "& x_1, x_2 \\geq 0.\n",
    "\\end{array}\n",
    "\\end{aligned}"
   ]
  }
 ],
 "metadata": {
  "kernelspec": {
   "display_name": "py38",
   "language": "python",
   "name": "py38"
  },
  "language_info": {
   "codemirror_mode": {
    "name": "ipython",
    "version": 3
   },
   "file_extension": ".py",
   "mimetype": "text/x-python",
   "name": "python",
   "nbconvert_exporter": "python",
   "pygments_lexer": "ipython3",
   "version": "3.8.5"
  },
  "latex_envs": {
   "LaTeX_envs_menu_present": true,
   "autoclose": false,
   "autocomplete": true,
   "bibliofile": "biblio.bib",
   "cite_by": "apalike",
   "current_citInitial": 1,
   "eqLabelWithNumbers": true,
   "eqNumInitial": 1,
   "hotkeys": {
    "equation": "Ctrl-E",
    "itemize": "Ctrl-I"
   },
   "labels_anchors": false,
   "latex_user_defs": false,
   "report_style_numbering": false,
   "user_envs_cfg": false
  },
  "toc": {
   "base_numbering": 1,
   "nav_menu": {},
   "number_sections": false,
   "sideBar": true,
   "skip_h1_title": false,
   "title_cell": "Table of Contents",
   "title_sidebar": "Contents",
   "toc_cell": false,
   "toc_position": {},
   "toc_section_display": true,
   "toc_window_display": false
  },
  "varInspector": {
   "cols": {
    "lenName": 16,
    "lenType": 16,
    "lenVar": 40
   },
   "kernels_config": {
    "python": {
     "delete_cmd_postfix": "",
     "delete_cmd_prefix": "del ",
     "library": "var_list.py",
     "varRefreshCmd": "print(var_dic_list())"
    },
    "r": {
     "delete_cmd_postfix": ") ",
     "delete_cmd_prefix": "rm(",
     "library": "var_list.r",
     "varRefreshCmd": "cat(var_dic_list()) "
    }
   },
   "types_to_exclude": [
    "module",
    "function",
    "builtin_function_or_method",
    "instance",
    "_Feature"
   ],
   "window_display": false
  }
 },
 "nbformat": 4,
 "nbformat_minor": 4
}
