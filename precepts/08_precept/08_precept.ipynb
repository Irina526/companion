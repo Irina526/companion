{
 "cells": [
  {
   "cell_type": "markdown",
   "metadata": {},
   "source": [
    "# ORF307 Precept 8"
   ]
  },
  {
   "cell_type": "markdown",
   "metadata": {},
   "source": [
    "# Duality motivation example\n",
    "\n",
    "We want to obtain a lower bound for the following LP\n",
    "\n",
    "\\begin{array}{ll} \\mbox{minimize} & x_1 + 3x_2 \\\\ \n",
    "\\mbox{subject to} & x_1 + x_2 \\geq 2 \\\\\n",
    "& x_2 \\geq 1 \\\\\n",
    "& x_1 - x_2 \\geq 3\n",
    "\\end{array}\n",
    "\n",
    "One idea: add the constraints \n",
    "\\begin{array}{ll}\n",
    "& y_1(x_1 + x_2 \\geq 2)  \\\\\n",
    "& + y_2(x_2 \\geq 1) \\\\\n",
    "& + y_3(x_1 - x_2 \\geq 3)\n",
    "\\end{array}\n",
    "\n",
    "and match the cost\n",
    "\\begin{array}{ll}\n",
    "& y_1 + y_3 = 1  \\\\\n",
    "& y_1 + y_2 - y_3 = 3 \\\\\n",
    "& y_1, y_2, y_3 \\geq 0\n",
    "\\end{array}\n",
    "\n",
    "We have many options\n",
    "\\begin{array}{ll}\n",
    "& y = (1, 2, 0) \\text{ -> bound is 4}  \\\\\n",
    "& y = (0, 4, 1) \\text{ -> bound is 7}\n",
    "\\end{array}"
   ]
  },
  {
   "cell_type": "markdown",
   "metadata": {},
   "source": [
    "# Weak Duality\n",
    "The objective value of the dual problem is less than or equal to the objective of primal problem, i.e. $d^* \\leq p^*$"
   ]
  },
  {
   "cell_type": "markdown",
   "metadata": {},
   "source": [
    "# Duality for linear programs\n",
    "For most linear programs, we see than in fact the objective values of the two problems are equal, $d^* = p^*$.  We say that strong duality holds when this happens. For linear programs, there only $4$ possibilities.\n",
    "\n",
    "1: Primal and dual optimal values finite and equal\n",
    "\n",
    "2: Primal is infeasible and dual is unbounded\n",
    "\n",
    "3: Primal is unbounded and dual is infeasible\n",
    "\n",
    "4: Primal infeasible and dual is infeasible\n",
    "\n",
    "\n",
    "\n"
   ]
  },
  {
   "cell_type": "markdown",
   "metadata": {},
   "source": [
    "# Farkas Lemma\n",
    "Given $A$ and $b$ exactly one of the two following statements is true\n",
    "\n",
    "\n",
    "1: there exists an $x$ such that $Ax = b$, $x \\geq 0$\n",
    "\n",
    "\n",
    "2: there exists a $y$ such that $A^T y \\geq 0$, $b^T y < 0$"
   ]
  },
  {
   "cell_type": "markdown",
   "metadata": {},
   "source": [
    "# The dual of our standard form LP\n",
    "\n",
    "\n",
    "\\begin{array}{ll} \\mbox{minimize} & c^T x \\\\ \n",
    "\\mbox{subject to} & Ax = b \\\\\n",
    " & x \\geq 0 \\\\\n",
    "\\end{array}\n",
    "\n",
    "\\begin{array}{ll} \\mbox{maximize} & -b^T y \\\\ \n",
    "\\mbox{subject to} & A^T + c  \\geq 0 \\\\\n",
    "\\end{array}"
   ]
  },
  {
   "cell_type": "markdown",
   "metadata": {},
   "source": [
    "# Taking the dual example\n",
    "\n",
    "Consider the following LP.  Find the dual optimization problem.\n",
    "\n",
    "\\begin{array}{ll} \\mbox{minimize} & 3x_1 + 4x_2 \\\\ \n",
    "\\mbox{subject to} & x_1 + x_2 \\geq 5 \\\\\n",
    " & 2x_1 + x_2 \\geq 6 \\\\\n",
    " &x_1, x_2 \\geq 0\n",
    "\\end{array}\n"
   ]
  },
  {
   "cell_type": "markdown",
   "metadata": {},
   "source": [
    "# Dual of 1 norm problem\n",
    "\n",
    "Consider the following optimization problem in $x$\n",
    "\n",
    "\\begin{array}{ll} \\mbox{minimize} & c^T x \\\\ \n",
    "\\mbox{subject to} & \\| Ax + b\\|_1 \\leq 1 \\end{array}\n",
    "\n",
    "(a) Formulate this as an LP in inequality form\n"
   ]
  },
  {
   "cell_type": "markdown",
   "metadata": {},
   "source": [
    "(b) Derive the dual LP, and show that it is equivalent to the problem\n",
    "\n",
    "\\begin{array}{ll} \\mbox{maximize} & b^T z - \\| z \\|_{\\infty} \\\\ \n",
    "\\mbox{subject to} & A^Tz + c = 0 \\end{array}"
   ]
  },
  {
   "cell_type": "markdown",
   "metadata": {},
   "source": [
    "(c) Give a direct argument that whenever $x$ is primal feasible and $z$ is dual feasible, we have $c^T x \\geq b^T z - \\| z\\|_{\\infty}$ "
   ]
  }
 ],
 "metadata": {
  "kernelspec": {
   "display_name": "Python 3",
   "language": "python",
   "name": "python3"
  },
  "language_info": {
   "codemirror_mode": {
    "name": "ipython",
    "version": 3
   },
   "file_extension": ".py",
   "mimetype": "text/x-python",
   "name": "python",
   "nbconvert_exporter": "python",
   "pygments_lexer": "ipython3",
   "version": "3.6.5"
  }
 },
 "nbformat": 4,
 "nbformat_minor": 2
}
