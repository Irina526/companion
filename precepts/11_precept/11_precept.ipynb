{
 "cells": [
  {
   "cell_type": "markdown",
   "metadata": {},
   "source": [
    "# ORF307 Precept 11"
   ]
  },
  {
   "cell_type": "markdown",
   "metadata": {},
   "source": [
    "# Branch and bound review topics\n",
    "\n",
    "Overview of brand and bound\n",
    "\n",
    "Branching rules\n",
    "\n",
    "Brand and bound example from lecture\n",
    "\n",
    "Pruning\n",
    "\n",
    "Lower and upper bounds for a minimization problem\n",
    "\n",
    "- LB: solve the relaxation (can't do better than this)\n",
    "\n",
    "- UB: try to get a feasible point to the integer problem (we know we can do at least this good)\n"
   ]
  },
  {
   "cell_type": "markdown",
   "metadata": {},
   "source": [
    "# Branch and bound example\n",
    "\n",
    "\\begin{array}{ll} \\mbox{maximize} & -2x_1 - 3x_2 \\\\ \n",
    "\\mbox{subject to} & \\frac{2}{9}x_1 + \\frac{1}{4}x_2 \\leq 1 \\\\\n",
    "& \\frac{1}{7}x_1 + \\frac{1}{3}x_2 \\leq 1 \\\\\n",
    "& x \\geq 0 \\\\\n",
    "& x \\in \\mathbf{Z}\n",
    "\\end{array}"
   ]
  },
  {
   "cell_type": "markdown",
   "metadata": {},
   "source": [
    "# Disjunctive constraints\n",
    "Suppose that we are given $m$ constraints $a_i^T x \\geq b_i, \\quad i=1, \\dots, m$ but without the restriction $a_i \\geq 0$.  Model the requirement that at least $k$ of them are satisfied.  Assume that there exists a number $f$ such that $a_i^T x \\geq f$ for $i=1 \\dots m$ and for all feasible $x$"
   ]
  },
  {
   "cell_type": "markdown",
   "metadata": {},
   "source": [
    "# A production and distribution problem\n",
    "A company produces a set of $K$ products at $I$ plants.  It then ships these products to $J$ market zones.  For $k=1, \\dots, K$, $i=1, \\dots, I$, and $j=1, \\dots, J$ the following data are given\n",
    "\n",
    "$v_{ik}$ = variable cost of producing one unit of product $k$ at plant $i$\n",
    "\n",
    "$c_{ijk}$ = cost of shipping one unit of product $k$ from plant $i$ to zone $j$\n",
    "\n",
    "$f_{ik}$ = fixed cost associated with producing product $k$ at plant $i$\n",
    "\n",
    "$M_{ik}$ = maximal quantity of product $k$ produced at plant $i$\n",
    "\n",
    "$m_{ik}$ = minimal quantity of product $k$ that can be produced at plant $i$, if plant $i$ introduces a nonzero quantity\n",
    "\n",
    "$q_{ik}$ = capacity of plant $i$ to produce one unit of product $k$\n",
    "\n",
    "$Q_{i}$ = capacity of plant $i$\n",
    "\n",
    "$d_{jk}$ = demand for product $k$ at market zone $j$\n",
    "\n",
    "(a) Formulate the problem of minimizing the total cost of production and transportation that the company is facing as an integer programming problem.  Indicate how your model can incorporate the following additional constraints.\n",
    "\n",
    "(b) No plant may produce more than $K_1$ products\n",
    "\n",
    "(c) Every product can be produced in at most $I_1$ plants\n",
    "\n",
    "(d) For a particular product $k_0$, plant $3$ must produce it if neither plant $1$ nor plant $2$ produces it\n",
    "\n",
    "(e) Each market zone must be sourced by exactly one plant for all products\n"
   ]
  }
 ],
 "metadata": {
  "kernelspec": {
   "display_name": "Python 3",
   "language": "python",
   "name": "python3"
  },
  "language_info": {
   "codemirror_mode": {
    "name": "ipython",
    "version": 3
   },
   "file_extension": ".py",
   "mimetype": "text/x-python",
   "name": "python",
   "nbconvert_exporter": "python",
   "pygments_lexer": "ipython3",
   "version": "3.7.3"
  }
 },
 "nbformat": 4,
 "nbformat_minor": 2
}
