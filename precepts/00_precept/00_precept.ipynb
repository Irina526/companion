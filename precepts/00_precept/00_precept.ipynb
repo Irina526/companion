{
 "cells": [
  {
   "cell_type": "markdown",
   "metadata": {
    "id": "djrwdflkeaS2"
   },
   "source": [
    "# 00 Precept: Welcome to ORF307"
   ]
  },
  {
   "cell_type": "markdown",
   "metadata": {
    "id": "FbGmeQRPetlj"
   },
   "source": [
    "Agenda: \n",
    "- Introductions\n",
    "- Linear Algebra Review\n",
    "- Python and Numpy basic tutorial"
   ]
  },
  {
   "cell_type": "markdown",
   "metadata": {
    "id": "dzh0sUHbf2kU"
   },
   "source": [
    "# Linear Algebra Review - Written portion \n",
    "\n"
   ]
  },
  {
   "cell_type": "markdown",
   "metadata": {
    "id": "q_OomSw2g0jv"
   },
   "source": [
    "Topics covered\n",
    "- Introduction to linear systems\n",
    "- Inner products and outer products\n",
    "- Matrix multiplication\n",
    "- Norms\n",
    "- Linear Independence and Rank\n",
    "- Trace"
   ]
  },
  {
   "cell_type": "markdown",
   "metadata": {
    "id": "wY-1AfLN0lx3"
   },
   "source": [
    "# Python lists and Numpy basics"
   ]
  },
  {
   "cell_type": "code",
   "execution_count": 2,
   "metadata": {
    "id": "HNEze4AnvGd9"
   },
   "outputs": [],
   "source": [
    "import numpy as np\n",
    "import matplotlib.pyplot as plt"
   ]
  },
  {
   "cell_type": "code",
   "execution_count": 3,
   "metadata": {
    "colab": {
     "base_uri": "https://localhost:8080/"
    },
    "id": "JDSN2N8Bhp1P",
    "outputId": "961964b7-56e8-40f2-ed5b-da3c7d41dd21"
   },
   "outputs": [
    {
     "name": "stdout",
     "output_type": "stream",
     "text": [
      "Hello world\n"
     ]
    }
   ],
   "source": [
    "print('Hello world')"
   ]
  },
  {
   "cell_type": "code",
   "execution_count": 4,
   "metadata": {
    "colab": {
     "base_uri": "https://localhost:8080/"
    },
    "id": "_lpV4mIEvJzv",
    "outputId": "6df4584f-f471-425c-d740-9dba23fd307e"
   },
   "outputs": [
    {
     "name": "stdout",
     "output_type": "stream",
     "text": [
      "squares [9, 4, 25, 16]\n"
     ]
    }
   ],
   "source": [
    "# python list\n",
    "x_list = [3, 2, 5, 4]\n",
    "\n",
    "# python list comprehension\n",
    "squares = [x_list[i]**2 for i in range(len(x_list))]\n",
    "print('squares', squares)\n"
   ]
  },
  {
   "cell_type": "code",
   "execution_count": 5,
   "metadata": {
    "colab": {
     "base_uri": "https://localhost:8080/"
    },
    "id": "ToyhvWuEh7Kl",
    "outputId": "5c0af2bc-7dde-4697-dd41-4f310d6890f7"
   },
   "outputs": [
    {
     "name": "stdout",
     "output_type": "stream",
     "text": [
      "x_np_vector [ 2 -3  6  9]\n",
      "x_2d_np_array [[ 2 -1]\n",
      " [-1  0]]\n"
     ]
    }
   ],
   "source": [
    "# 1d and 2d numpy vectors\n",
    "x_np_vector = np.array([2, -3, 6, 9])\n",
    "x_2d_np_array = np.array([[2, -1], [-1, 0]])\n",
    "print('x_np_vector', x_np_vector)\n",
    "print('x_2d_np_array', x_2d_np_array)"
   ]
  },
  {
   "cell_type": "code",
   "execution_count": 6,
   "metadata": {
    "colab": {
     "base_uri": "https://localhost:8080/"
    },
    "id": "j7m4JM5Rh9PV",
    "outputId": "006f0622-51ab-42e2-e70f-ff8a5e6f8f63"
   },
   "outputs": [
    {
     "name": "stdout",
     "output_type": "stream",
     "text": [
      "be careful about zero indexing! False\n"
     ]
    }
   ],
   "source": [
    "# indexing\n",
    "print('be careful about zero indexing!', x_np_vector[1] == 2)"
   ]
  },
  {
   "cell_type": "code",
   "execution_count": 7,
   "metadata": {
    "colab": {
     "base_uri": "https://localhost:8080/"
    },
    "id": "fltBAVRQiN8I",
    "outputId": "32e71285-712c-48a9-c13f-0cdfb2b2bd4e"
   },
   "outputs": [
    {
     "name": "stdout",
     "output_type": "stream",
     "text": [
      "y [5 6 7 8]\n",
      "Z [[1. 1. 1. 1. 1.]\n",
      " [1. 1. 1. 1. 1.]\n",
      " [1. 1. 1. 1. 1.]]\n"
     ]
    }
   ],
   "source": [
    "# other ways to create vectors/matrices\n",
    "y = np.arange(5, 9)\n",
    "print('y', y)\n",
    "\n",
    "Z = np.ones((3,5))\n",
    "print('Z', Z)"
   ]
  },
  {
   "cell_type": "code",
   "execution_count": 8,
   "metadata": {
    "colab": {
     "base_uri": "https://localhost:8080/"
    },
    "id": "umjEPdI_04Uz",
    "outputId": "185dc6d3-412f-4a22-ac69-f47731802a34"
   },
   "outputs": [
    {
     "name": "stdout",
     "output_type": "stream",
     "text": [
      "X [[0. 0. 0. 0. 0.]\n",
      " [0. 0. 1. 0. 0.]\n",
      " [0. 0. 0. 2. 0.]\n",
      " [0. 0. 0. 0. 3.]\n",
      " [0. 0. 0. 0. 0.]]\n",
      "X shape (5, 5)\n",
      "X size 25\n"
     ]
    }
   ],
   "source": [
    "# for loop\n",
    "\n",
    "X = np.zeros((5, 5))\n",
    "for i in range(4):\n",
    "    X[i,i+1] = i\n",
    "print('X', X)\n",
    "print('X shape', X.shape)\n",
    "print('X size', X.size)"
   ]
  },
  {
   "cell_type": "code",
   "execution_count": 9,
   "metadata": {
    "colab": {
     "base_uri": "https://localhost:8080/"
    },
    "id": "gmXtf2hCiis4",
    "outputId": "1c0a76fc-5e85-4831-bb3a-53730ab54e93"
   },
   "outputs": [
    {
     "name": "stdout",
     "output_type": "stream",
     "text": [
      "X sliced [[2. 0.]\n",
      " [0. 3.]]\n"
     ]
    }
   ],
   "source": [
    "# Slicing\n",
    "print('X sliced', X[2:4, 3:])"
   ]
  },
  {
   "cell_type": "markdown",
   "metadata": {
    "id": "Rkb7fncQ3aVw"
   },
   "source": [
    "# Multiplication"
   ]
  },
  {
   "cell_type": "code",
   "execution_count": 10,
   "metadata": {
    "colab": {
     "base_uri": "https://localhost:8080/"
    },
    "id": "qNr1vJAg3fnl",
    "outputId": "0f7d4bb7-05fc-4281-b47a-649d4f29e6b8"
   },
   "outputs": [
    {
     "name": "stdout",
     "output_type": "stream",
     "text": [
      "scalar * vector [ 9 -3 12 15]\n",
      "inner product -3\n",
      "outer product [[  6  18  24 -21]\n",
      " [ -2  -6  -8   7]\n",
      " [  8  24  32 -28]\n",
      " [ 10  30  40 -35]]\n"
     ]
    }
   ],
   "source": [
    "# inner and outer products\n",
    "x = np.array([3, -1, 4, 5])\n",
    "\n",
    "y = np.array([2, 6, 8, -7])\n",
    "print('scalar * vector', x * 3)\n",
    "print('inner product', x @ y)\n",
    "\n",
    "x = np.array([3, -1, 4, 5])\n",
    "y = np.array([2, 6, 8, -7])\n",
    "print('outer product', np.outer(x, y))"
   ]
  },
  {
   "cell_type": "code",
   "execution_count": 11,
   "metadata": {
    "colab": {
     "base_uri": "https://localhost:8080/",
     "height": 528
    },
    "id": "aTI9ZdYw38QV",
    "outputId": "bb632247-b1e5-4ffc-b670-93add92e9fce"
   },
   "outputs": [
    {
     "name": "stdout",
     "output_type": "stream",
     "text": [
      "A shape (3, 2)\n",
      "A * A.T [[25 -9  7]\n",
      " [-9  9 -3]\n",
      " [ 7 -3  2]]\n",
      "A.T * A [[19 13]\n",
      " [13 17]]\n",
      "tr(A) 3\n",
      "evals [3.10384048e+01 4.96159519e+00 4.17521156e-16]\n"
     ]
    },
    {
     "ename": "LinAlgError",
     "evalue": "Singular matrix",
     "output_type": "error",
     "traceback": [
      "\u001b[0;31m---------------------------------------------------------------------------\u001b[0m",
      "\u001b[0;31mLinAlgError\u001b[0m                               Traceback (most recent call last)",
      "\u001b[0;32m<ipython-input-11-0316cb069e3c>\u001b[0m in \u001b[0;36m<module>\u001b[0;34m\u001b[0m\n\u001b[1;32m     10\u001b[0m \u001b[0mevals\u001b[0m\u001b[0;34m,\u001b[0m \u001b[0mevecs\u001b[0m \u001b[0;34m=\u001b[0m \u001b[0mnp\u001b[0m\u001b[0;34m.\u001b[0m\u001b[0mlinalg\u001b[0m\u001b[0;34m.\u001b[0m\u001b[0meig\u001b[0m\u001b[0;34m(\u001b[0m\u001b[0mAAT\u001b[0m\u001b[0;34m)\u001b[0m\u001b[0;34m\u001b[0m\u001b[0;34m\u001b[0m\u001b[0m\n\u001b[1;32m     11\u001b[0m \u001b[0mprint\u001b[0m\u001b[0;34m(\u001b[0m\u001b[0;34m'evals'\u001b[0m\u001b[0;34m,\u001b[0m \u001b[0mevals\u001b[0m\u001b[0;34m)\u001b[0m\u001b[0;34m\u001b[0m\u001b[0;34m\u001b[0m\u001b[0m\n\u001b[0;32m---> 12\u001b[0;31m \u001b[0mprint\u001b[0m\u001b[0;34m(\u001b[0m\u001b[0;34m'inv of A*A.T'\u001b[0m\u001b[0;34m,\u001b[0m \u001b[0mnp\u001b[0m\u001b[0;34m.\u001b[0m\u001b[0mlinalg\u001b[0m\u001b[0;34m.\u001b[0m\u001b[0minv\u001b[0m\u001b[0;34m(\u001b[0m\u001b[0mAAT\u001b[0m\u001b[0;34m)\u001b[0m\u001b[0;34m)\u001b[0m\u001b[0;34m\u001b[0m\u001b[0;34m\u001b[0m\u001b[0m\n\u001b[0m",
      "\u001b[0;32m<__array_function__ internals>\u001b[0m in \u001b[0;36minv\u001b[0;34m(*args, **kwargs)\u001b[0m\n",
      "\u001b[0;32m~/.pyenv/versions/3.9.1/envs/orf307/lib/python3.9/site-packages/numpy/linalg/linalg.py\u001b[0m in \u001b[0;36minv\u001b[0;34m(a)\u001b[0m\n\u001b[1;32m    544\u001b[0m     \u001b[0msignature\u001b[0m \u001b[0;34m=\u001b[0m \u001b[0;34m'D->D'\u001b[0m \u001b[0;32mif\u001b[0m \u001b[0misComplexType\u001b[0m\u001b[0;34m(\u001b[0m\u001b[0mt\u001b[0m\u001b[0;34m)\u001b[0m \u001b[0;32melse\u001b[0m \u001b[0;34m'd->d'\u001b[0m\u001b[0;34m\u001b[0m\u001b[0;34m\u001b[0m\u001b[0m\n\u001b[1;32m    545\u001b[0m     \u001b[0mextobj\u001b[0m \u001b[0;34m=\u001b[0m \u001b[0mget_linalg_error_extobj\u001b[0m\u001b[0;34m(\u001b[0m\u001b[0m_raise_linalgerror_singular\u001b[0m\u001b[0;34m)\u001b[0m\u001b[0;34m\u001b[0m\u001b[0;34m\u001b[0m\u001b[0m\n\u001b[0;32m--> 546\u001b[0;31m     \u001b[0mainv\u001b[0m \u001b[0;34m=\u001b[0m \u001b[0m_umath_linalg\u001b[0m\u001b[0;34m.\u001b[0m\u001b[0minv\u001b[0m\u001b[0;34m(\u001b[0m\u001b[0ma\u001b[0m\u001b[0;34m,\u001b[0m \u001b[0msignature\u001b[0m\u001b[0;34m=\u001b[0m\u001b[0msignature\u001b[0m\u001b[0;34m,\u001b[0m \u001b[0mextobj\u001b[0m\u001b[0;34m=\u001b[0m\u001b[0mextobj\u001b[0m\u001b[0;34m)\u001b[0m\u001b[0;34m\u001b[0m\u001b[0;34m\u001b[0m\u001b[0m\n\u001b[0m\u001b[1;32m    547\u001b[0m     \u001b[0;32mreturn\u001b[0m \u001b[0mwrap\u001b[0m\u001b[0;34m(\u001b[0m\u001b[0mainv\u001b[0m\u001b[0;34m.\u001b[0m\u001b[0mastype\u001b[0m\u001b[0;34m(\u001b[0m\u001b[0mresult_t\u001b[0m\u001b[0;34m,\u001b[0m \u001b[0mcopy\u001b[0m\u001b[0;34m=\u001b[0m\u001b[0;32mFalse\u001b[0m\u001b[0;34m)\u001b[0m\u001b[0;34m)\u001b[0m\u001b[0;34m\u001b[0m\u001b[0;34m\u001b[0m\u001b[0m\n\u001b[1;32m    548\u001b[0m \u001b[0;34m\u001b[0m\u001b[0m\n",
      "\u001b[0;32m~/.pyenv/versions/3.9.1/envs/orf307/lib/python3.9/site-packages/numpy/linalg/linalg.py\u001b[0m in \u001b[0;36m_raise_linalgerror_singular\u001b[0;34m(err, flag)\u001b[0m\n\u001b[1;32m     86\u001b[0m \u001b[0;34m\u001b[0m\u001b[0m\n\u001b[1;32m     87\u001b[0m \u001b[0;32mdef\u001b[0m \u001b[0m_raise_linalgerror_singular\u001b[0m\u001b[0;34m(\u001b[0m\u001b[0merr\u001b[0m\u001b[0;34m,\u001b[0m \u001b[0mflag\u001b[0m\u001b[0;34m)\u001b[0m\u001b[0;34m:\u001b[0m\u001b[0;34m\u001b[0m\u001b[0;34m\u001b[0m\u001b[0m\n\u001b[0;32m---> 88\u001b[0;31m     \u001b[0;32mraise\u001b[0m \u001b[0mLinAlgError\u001b[0m\u001b[0;34m(\u001b[0m\u001b[0;34m\"Singular matrix\"\u001b[0m\u001b[0;34m)\u001b[0m\u001b[0;34m\u001b[0m\u001b[0;34m\u001b[0m\u001b[0m\n\u001b[0m\u001b[1;32m     89\u001b[0m \u001b[0;34m\u001b[0m\u001b[0m\n\u001b[1;32m     90\u001b[0m \u001b[0;32mdef\u001b[0m \u001b[0m_raise_linalgerror_nonposdef\u001b[0m\u001b[0;34m(\u001b[0m\u001b[0merr\u001b[0m\u001b[0;34m,\u001b[0m \u001b[0mflag\u001b[0m\u001b[0;34m)\u001b[0m\u001b[0;34m:\u001b[0m\u001b[0;34m\u001b[0m\u001b[0;34m\u001b[0m\u001b[0m\n",
      "\u001b[0;31mLinAlgError\u001b[0m: Singular matrix"
     ]
    }
   ],
   "source": [
    "# matrix multiplication\n",
    "A = np.array([[3, 4], [-3, 0], [1, 1]])\n",
    "print('A shape', A.shape)\n",
    "print('A * A.T', A @ A.T)\n",
    "print('A.T * A', A.T @ A)\n",
    "print('tr(A)', np.trace(A))\n",
    "\n",
    "AAT = A @ A.T\n",
    "\n",
    "evals, evecs = np.linalg.eig(AAT)\n",
    "print('evals', evals)\n",
    "print('inv of A*A.T', np.linalg.inv(AAT))"
   ]
  },
  {
   "cell_type": "markdown",
   "metadata": {
    "id": "VLCG6thk0aTw"
   },
   "source": [
    "\n",
    "\n",
    "# Norms, Triangle Inequality, Cauchy-Schwartz"
   ]
  },
  {
   "cell_type": "code",
   "execution_count": 12,
   "metadata": {
    "colab": {
     "base_uri": "https://localhost:8080/"
    },
    "id": "qazoW0pNvNPC",
    "outputId": "4c0d5615-ae05-4ea9-c8d8-ef13cd1f9acb"
   },
   "outputs": [
    {
     "name": "stdout",
     "output_type": "stream",
     "text": [
      "x_norm_l2 11.40175425099138\n",
      "x_norm_l1 20.0\n"
     ]
    }
   ],
   "source": [
    "# norms, triange inequality, and Cauchy Schwartz\n",
    "x_norm_l2 = np.linalg.norm(x_np_vector, 2)\n",
    "x_norm_l1 = np.linalg.norm(x_np_vector, 1)\n",
    "print('x_norm_l2', x_norm_l2)\n",
    "print('x_norm_l1', x_norm_l1)"
   ]
  },
  {
   "cell_type": "code",
   "execution_count": 13,
   "metadata": {
    "colab": {
     "base_uri": "https://localhost:8080/"
    },
    "id": "faHRWk7evOIM",
    "outputId": "0711b748-6fa0-4680-932c-12538eff1312"
   },
   "outputs": [
    {
     "name": "stdout",
     "output_type": "stream",
     "text": [
      "4.488513828209994\n",
      "4.659873128000542\n"
     ]
    }
   ],
   "source": [
    "# Triangle Inequality : ||a + b|| <= ||a|| + ||b||\n",
    "a = np.random.normal(size=(5))\n",
    "b = np.random.normal(size=(5))\n",
    "print(np.linalg.norm(a + b))\n",
    "print(np.linalg.norm(a) + np.linalg.norm(b))"
   ]
  },
  {
   "cell_type": "code",
   "execution_count": 14,
   "metadata": {
    "colab": {
     "base_uri": "https://localhost:8080/"
    },
    "id": "6JbBgLFB1ao5",
    "outputId": "418eeaab-4cb5-4a32-d360-8db47c0acbb2"
   },
   "outputs": [
    {
     "name": "stdout",
     "output_type": "stream",
     "text": [
      "LHS 0.20964625821445138\n",
      "RHS 9.049083064200754\n",
      "RHS2 9.049083064200754\n"
     ]
    }
   ],
   "source": [
    "# Cauchy Schwartz : (u.T v)**2 <= ||u||_2 ||v||_2\n",
    "u = np.random.normal(size=(10))\n",
    "v = np.random.normal(size=(10))\n",
    "LHS = u @ v\n",
    "RHS = np.linalg.norm(u, 2) * np.linalg.norm(v, 2)\n",
    "RHS2 = np.sqrt((u @ u)) * np.sqrt((v @ v))\n",
    "print('LHS', LHS)\n",
    "print('RHS', RHS)\n",
    "print('RHS2', RHS2)"
   ]
  },
  {
   "cell_type": "markdown",
   "metadata": {
    "id": "Hnu21VaWYF-f"
   },
   "source": [
    "# Plotting\n"
   ]
  },
  {
   "cell_type": "code",
   "execution_count": 15,
   "metadata": {
    "colab": {
     "base_uri": "https://localhost:8080/",
     "height": 312
    },
    "id": "oo2A_9s-YSSB",
    "outputId": "5229af61-7df0-4bdd-e842-947673060f05"
   },
   "outputs": [
    {
     "data": {
      "text/plain": [
       "Text(0.5, 0, '$x$')"
      ]
     },
     "execution_count": 15,
     "metadata": {},
     "output_type": "execute_result"
    },
    {
     "data": {
      "image/png": "[encoded data removed]",
      "text/plain": [
       "<Figure size 432x288 with 1 Axes>"
      ]
     },
     "metadata": {
      "needs_background": "light"
     },
     "output_type": "display_data"
    }
   ],
   "source": [
    "x = np.arange(50)\n",
    "y = 0.1*x**2 + 3*x - 5 + np.random.normal(size=50) \n",
    "plt.scatter(x, y)\n",
    "plt.plot(x, y, 'r')\n",
    "plt.title('Plotting demo')\n",
    "plt.ylabel(r'$y$')\n",
    "plt.xlabel(r'$x$')"
   ]
  },
  {
   "cell_type": "markdown",
   "metadata": {
    "id": "WXBR11tkZ8e_"
   },
   "source": [
    "# LaTeX"
   ]
  },
  {
   "cell_type": "markdown",
   "metadata": {
    "id": "mW7qJs_OaAKu"
   },
   "source": [
    "We can latex in jupyter notebooks.  $$x_{t+1} = A x_t + B u_t$$\n",
    "\n",
    "This equation comes up often in dynamical systems.  $x_t$ is the state variable at time $t$ and $u_t$ is the control input at time $t$.  "
   ]
  }
 ],
 "metadata": {
  "colab": {
   "collapsed_sections": [],
   "name": "Precept0.ipynb",
   "provenance": [],
   "toc_visible": true
  },
  "kernelspec": {
   "display_name": "Python 3",
   "language": "python",
   "name": "python3"
  },
  "language_info": {
   "codemirror_mode": {
    "name": "ipython",
    "version": 3
   },
   "file_extension": ".py",
   "mimetype": "text/x-python",
   "name": "python",
   "nbconvert_exporter": "python",
   "pygments_lexer": "ipython3",
   "version": "3.9.1"
  }
 },
 "nbformat": 4,
 "nbformat_minor": 4
}
