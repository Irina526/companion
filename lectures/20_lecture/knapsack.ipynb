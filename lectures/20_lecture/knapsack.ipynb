{
 "cells": [
  {
   "cell_type": "code",
   "execution_count": 1,
   "metadata": {},
   "outputs": [],
   "source": [
    "import cvxpy as cp\n",
    "import numpy as np"
   ]
  },
  {
   "cell_type": "code",
   "execution_count": 2,
   "metadata": {},
   "outputs": [],
   "source": [
    "# Problem data\n",
    "n = 10 # Number of items\n",
    "a = np.random.rand(10)  # Random weights\n",
    "b = 2.5 # Maximum total weight\n",
    "c = np.random.rand(10)  # Value of the items"
   ]
  },
  {
   "cell_type": "code",
   "execution_count": 3,
   "metadata": {},
   "outputs": [
    {
     "name": "stdout",
     "output_type": "stream",
     "text": [
      "Total knapsack value =  3.867225869486999\n"
     ]
    }
   ],
   "source": [
    "x = cp.Variable(n, boolean=True)\n",
    "problem = cp.Problem(cp.Maximize(c @ x), [a @ x <= b])\n",
    "problem.solve(solver=cp.GLPK_MI)\n",
    "print(\"Total knapsack value = \", problem.objective.value)"
   ]
  },
  {
   "cell_type": "code",
   "execution_count": 4,
   "metadata": {},
   "outputs": [
    {
     "name": "stdout",
     "output_type": "stream",
     "text": [
      "Solution x = [1. 0. 1. 1. 0. 1. 1. 0. 0. 1.]\n"
     ]
    }
   ],
   "source": [
    "print(\"Solution x =\", x.value)"
   ]
  }
 ],
 "metadata": {
  "kernelspec": {
   "display_name": "Python 3",
   "language": "python",
   "name": "python3"
  },
  "language_info": {
   "codemirror_mode": {
    "name": "ipython",
    "version": 3
   },
   "file_extension": ".py",
   "mimetype": "text/x-python",
   "name": "python",
   "nbconvert_exporter": "python",
   "pygments_lexer": "ipython3",
   "version": "3.9.1"
  }
 },
 "nbformat": 4,
 "nbformat_minor": 4
}
