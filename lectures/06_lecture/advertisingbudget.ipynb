{
 "cells": [
  {
   "cell_type": "code",
   "execution_count": 13,
   "metadata": {},
   "outputs": [],
   "source": [
    "import numpy as np\n",
    "from scipy.linalg import lu\n",
    "from numpy.linalg import cholesky as llt\n",
    "import matplotlib.pyplot as plt\n",
    "plt.rcParams.update({\n",
    "    \"text.usetex\": True,\n",
    "    \"font.family\": \"sans-serif\",\n",
    "    \"font.sans-serif\": [\"Helvetica Neue\"],\n",
    "    \"font.size\": 28,\n",
    "    })\n",
    "from time import time"
   ]
  },
  {
   "cell_type": "markdown",
   "metadata": {},
   "source": [
    "## Constrained advertising example\n",
    "Taken from VMLS book, page 341"
   ]
  },
  {
   "cell_type": "code",
   "execution_count": 14,
   "metadata": {},
   "outputs": [],
   "source": [
    "m, n = 10, 3\n",
    "A = np.array([\n",
    "    [0.97, 1.86, 0.41],\n",
    "    [1.23, 2.18, 0.53],\n",
    "    [0.80, 1.24, 0.62],\n",
    "    [1.29, 0.98, 0.51],\n",
    "    [1.10, 1.23, 0.69],\n",
    "    [0.67, 0.34, 0.54],\n",
    "    [0.87, 0.26, 0.62],\n",
    "    [1.10, 0.16, 0.48],\n",
    "    [1.92, 0.22, 0.71],\n",
    "    [1.29, 0.12, 0.62]\n",
    "    ])\n",
    "v_des = 1000*np.ones(10)\n",
    "B = 1284 # Total budget"
   ]
  },
  {
   "cell_type": "code",
   "execution_count": 15,
   "metadata": {},
   "outputs": [],
   "source": [
    "# Formulate constrained least squares probl;em\n",
    "C = np.ones((1, n))\n",
    "d = np.array([B])"
   ]
  },
  {
   "cell_type": "code",
   "execution_count": 42,
   "metadata": {},
   "outputs": [],
   "source": [
    "def forward_substitution(L, b):\n",
    "    n = L.shape[0]\n",
    "    x = np.zeros(n)\n",
    "    for i in range(n):\n",
    "        x[i] = (b[i] - L[i,:i] @ x[:i])/L[i, i]\n",
    "    return x\n",
    "\n",
    "def backward_substitution(U, b):\n",
    "    n = U.shape[0]\n",
    "    x = np.zeros(n)\n",
    "    for i in reversed(range(n)):\n",
    "        x[i] = (b[i] - U[i,i+1:] @ x[i+1:])/U[i, i]\n",
    "    return x\n",
    "\n",
    "def lstsq(A, b):\n",
    "    M = A.T.dot(A)\n",
    "    q = A.T.dot(v_des)\n",
    "    L = llt(M)\n",
    "    x = forward_substitution(L, q)\n",
    "    x = backward_substitution(L.T, x)\n",
    "    return x\n",
    "    \n",
    "def con_lstsq(A, b, C, d):\n",
    "    p, n = C.shape\n",
    "    KKT = np.block([[2*A.T @ A, C.T], \n",
    "                [C, np.zeros((p, p))]])\n",
    "    rhs = np.hstack([2*A.T @ b, d])\n",
    "    P, L, U = lu(KKT)\n",
    "    x = P.T @ rhs\n",
    "    x = forward_substitution(L, x)\n",
    "    x = backward_substitution(U, x)\n",
    "    return x[:n]"
   ]
  },
  {
   "cell_type": "code",
   "execution_count": 64,
   "metadata": {},
   "outputs": [
    {
     "data": {
      "text/plain": [
       "array([  49.66442212,   79.99303251, 1154.34254537])"
      ]
     },
     "execution_count": 64,
     "metadata": {},
     "output_type": "execute_result"
    }
   ],
   "source": [
    "x_ls = lstsq(A, v_des)\n",
    "x_ls = x_ls/np.sum(x_ls)*B\n",
    "x_ls"
   ]
  },
  {
   "cell_type": "code",
   "execution_count": 65,
   "metadata": {},
   "outputs": [
    {
     "data": {
      "text/plain": [
       "array([315.16818459, 109.86643348, 858.96538193])"
      ]
     },
     "execution_count": 65,
     "metadata": {},
     "output_type": "execute_result"
    }
   ],
   "source": [
    "x_cls = con_lstsq(A, v_des, C, d)\n",
    "x_cls"
   ]
  },
  {
   "cell_type": "code",
   "execution_count": 69,
   "metadata": {},
   "outputs": [
    {
     "data": {
      "image/png": "[encoded data removed]",
      "text/plain": [
       "<Figure size 1152x648 with 1 Axes>"
      ]
     },
     "metadata": {
      "needs_background": "light"
     },
     "output_type": "display_data"
    }
   ],
   "source": [
    "width=0.35\n",
    "fig = plt.figure(figsize=(16, 9))\n",
    "plt.bar(np.arange(m) - width/2, A.dot(x_ls), width, label=\"Scaled least squares\")\n",
    "plt.bar(np.arange(m) + width/2, A.dot(x_cls), width, label=\"Optimal constrained least squares\")\n",
    "plt.axhline(y=1000, color='k', linestyle='-')\n",
    "plt.xticks(np.arange(m))\n",
    "plt.xlabel(\"Group\")\n",
    "plt.ylabel(\"Views\")\n",
    "plt.legend()\n",
    "plt.savefig('advertising_budget.pdf')"
   ]
  },
  {
   "cell_type": "code",
   "execution_count": 68,
   "metadata": {},
   "outputs": [
    {
     "name": "stdout",
     "output_type": "stream",
     "text": [
      "Cost least squares = 1284\n",
      "Cost constrained least squares = 1284\n",
      "RMS least squares = 23.85%\n",
      "RMS constrained least squares = 16.10%\n"
     ]
    }
   ],
   "source": [
    "rms_ls = np.linalg.norm(A @ x_ls - v_des)/np.linalg.norm(v_des)\n",
    "rms_cls = np.linalg.norm(A @ x_cls - v_des)/np.linalg.norm(v_des)\n",
    "cost_ls = np.sum(x_ls)\n",
    "cost_cls = np.sum(x_cls)\n",
    "\n",
    "print(\"Cost least squares = %d\" % cost_ls)\n",
    "print(\"Cost constrained least squares = %d\" % cost_cls)\n",
    "print(\"RMS least squares = %.2f%%\" % (rms_ls * 100))\n",
    "print(\"RMS constrained least squares = %.2f%%\" % (rms_cls*100))"
   ]
  }
 ],
 "metadata": {
  "kernelspec": {
   "display_name": "Python 3",
   "language": "python",
   "name": "python3"
  },
  "language_info": {
   "codemirror_mode": {
    "name": "ipython",
    "version": 3
   },
   "file_extension": ".py",
   "mimetype": "text/x-python",
   "name": "python",
   "nbconvert_exporter": "python",
   "pygments_lexer": "ipython3",
   "version": "3.9.1"
  }
 },
 "nbformat": 4,
 "nbformat_minor": 4
}
