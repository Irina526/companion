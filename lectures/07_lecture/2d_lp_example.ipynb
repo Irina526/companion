{
 "cells": [
  {
   "cell_type": "code",
   "execution_count": 1,
   "metadata": {},
   "outputs": [
    {
     "data": {
      "text/plain": [
       "-0.9999999999536023"
      ]
     },
     "execution_count": 1,
     "metadata": {},
     "output_type": "execute_result"
    }
   ],
   "source": [
    "import cvxpy as cp\n",
    "\n",
    "#make decision variable\n",
    "x = cp.Variable(2)\n",
    "\n",
    "#define objective\n",
    "objective   = x[0]\n",
    "\n",
    "#define constraints\n",
    "constraints = [ -1 <= x[0], x[0] <= 1, #inequalities\n",
    "                -1 <= x[1], x[1] <= 1, #inequalities\n",
    "                x[0] + x[1] == -1]     #equalities\n",
    "\n",
    "#make problem and solve\n",
    "prob = cp.Problem(cp.Minimize(objective),constraints)\n",
    "prob.solve()"
   ]
  },
  {
   "cell_type": "code",
   "execution_count": 2,
   "metadata": {},
   "outputs": [
    {
     "data": {
      "text/plain": [
       "-1.0000000000072828"
      ]
     },
     "execution_count": 2,
     "metadata": {},
     "output_type": "execute_result"
    }
   ],
   "source": [
    "#define objective\n",
    "objective   = x[0]\n",
    "\n",
    "#define constraints\n",
    "constraints = [ cp.abs(x[0]) <= 1, #inequalities\n",
    "                cp.abs(x[1]) <= 1, #inequalities\n",
    "                x[0] + x[1] == -1] #equalities\n",
    "\n",
    "#make problem and solve\n",
    "prob = cp.Problem(cp.Minimize(objective),constraints)\n",
    "prob.solve()"
   ]
  },
  {
   "cell_type": "code",
   "execution_count": 3,
   "metadata": {},
   "outputs": [
    {
     "name": "stdout",
     "output_type": "stream",
     "text": [
      "----------------------------------------------------------------------------\n",
      "\tSCS v2.1.2 - Splitting Conic Solver\n",
      "\t(c) Brendan O'Donoghue, Stanford University, 2012\n",
      "----------------------------------------------------------------------------\n",
      "Lin-sys: sparse-direct, nnz in A = 11\n",
      "eps = 1.00e-04, alpha = 1.50, max_iters = 5000, normalize = 1, scale = 1.00\n",
      "acceleration_lookback = 10, rho_x = 1.00e-03\n",
      "Variables n = 3, constraints m = 6\n",
      "Cones:\tprimal zero / dual free vars: 1\n",
      "\tlinear vars: 5\n",
      "Setup time: 2.11e-03s\n",
      "----------------------------------------------------------------------------\n",
      " Iter | pri res | dua res | rel gap | pri obj | dua obj | kap/tau | time (s)\n",
      "----------------------------------------------------------------------------\n",
      "     0| 7.84e+18  4.36e+18  1.00e+00 -6.95e+18  4.16e+18  9.34e+18  2.04e-03 \n",
      "    17| 3.10e-11  3.29e-11  3.45e-12 -1.00e+00 -1.00e+00  1.88e-17  2.50e-03 \n",
      "----------------------------------------------------------------------------\n",
      "Status: Solved\n",
      "Timing: Solve time: 2.64e-03s\n",
      "\tLin-sys: nnz in L factor: 23, avg solve time: 1.57e-07s\n",
      "\tCones: avg projection time: 4.01e-08s\n",
      "\tAcceleration: avg step time: 5.89e-06s\n",
      "----------------------------------------------------------------------------\n",
      "Error metrics:\n",
      "dist(s, K) = 1.4949e-16, dist(y, K*) = 0.0000e+00, s'y/|s||y| = -8.5539e-17\n",
      "primal res: |Ax + s - b|_2 / (1 + |b|_2) = 3.0954e-11\n",
      "dual res:   |A'y + c|_2 / (1 + |c|_2) = 3.2932e-11\n",
      "rel gap:    |c'x + b'y| / (1 + |c'x| + |b'y|) = 3.4478e-12\n",
      "----------------------------------------------------------------------------\n",
      "c'x = -1.0000, -b'y = -1.0000\n",
      "============================================================================\n"
     ]
    },
    {
     "data": {
      "text/plain": [
       "-1.0000000000365068"
      ]
     },
     "execution_count": 3,
     "metadata": {},
     "output_type": "execute_result"
    }
   ],
   "source": [
    "#define objective\n",
    "objective   = x[0]\n",
    "\n",
    "#define constraints\n",
    "constraints = [ cp.norm_inf(x) <= 1, #inequalities\n",
    "                x[0] + x[1] == -1]   #equalities\n",
    "\n",
    "#make problem and solve\n",
    "prob = cp.Problem(cp.Minimize(objective),constraints)\n",
    "prob.solve()\n",
    "prob.solve(solver='SCS', verbose=True) "
   ]
  }
 ],
 "metadata": {
  "kernelspec": {
   "display_name": "Python 3",
   "language": "python",
   "name": "python3"
  },
  "language_info": {
   "codemirror_mode": {
    "name": "ipython",
    "version": 3
   },
   "file_extension": ".py",
   "mimetype": "text/x-python",
   "name": "python",
   "nbconvert_exporter": "python",
   "pygments_lexer": "ipython3",
   "version": "3.9.1"
  }
 },
 "nbformat": 4,
 "nbformat_minor": 4
}
