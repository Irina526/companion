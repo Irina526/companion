{
 "cells": [
  {
   "cell_type": "markdown",
   "metadata": {
    "id": "o0R7G_oI8dcx"
   },
   "source": [
    "# ORF307 Homework 7 \n",
    "\n",
    "\n",
    "Due: Friday, April 9, 2021 9:00 pm ET\n",
    "\n",
    "- Please export your code with output as pdf.\n",
    "- If there is any additional answers, please combine them as **ONE** pdf file before submitting to the Gradescope."
   ]
  },
  {
   "cell_type": "markdown",
   "metadata": {
    "id": "dvm91Fgo8_oa"
   },
   "source": [
    "# Q1 Parametrized primal and dual LPs {-}"
   ]
  },
  {
   "cell_type": "markdown",
   "metadata": {
    "id": "FtYlxu6p8_ve"
   },
   "source": [
    "Consider the parameterized primal and dual LPs\n",
    "$$\n",
    "\\begin{array}{ll}\n",
    "\\mbox{minimize} &(c +\\epsilon d)^Tx\\\\ \n",
    "\\text{subject to} & Ax \\leq b\\\\\n",
    "&\\\\\n",
    "\\end{array}\\qquad \n",
    "\\begin{array}{ll}\n",
    "\\mbox{maximize} &-b^Ty\\\\\n",
    "\\text{subject to} & A^Ty + c + \\epsilon d = 0\\\\\n",
    "& y \\ge 0\n",
    "\\end{array}\n",
    "$$\n",
    "where \n",
    "$$\n",
    "A = \\begin{bmatrix}\n",
    "1 & 3\\\\\n",
    "1 & 1\n",
    "\\end{bmatrix},\n",
    "\\quad\\quad\n",
    "b = \\begin{bmatrix}\n",
    "4\\\\\n",
    "4\n",
    "\\end{bmatrix},\n",
    "\\quad\\quad\n",
    "c = \\begin{bmatrix}\n",
    "-1\\\\\n",
    "-2\n",
    "\\end{bmatrix},\n",
    "\\quad\\quad\n",
    "d = \\begin{bmatrix}\n",
    "2 \\\\\n",
    "1 \n",
    "\\end{bmatrix}\n",
    "$$"
   ]
  },
  {
   "cell_type": "markdown",
   "metadata": {},
   "source": [
    "(a) Prove that $x^\\star= (4, 0)$ and $y^\\star = (0.5, 0.5)$ are optimal when $\\epsilon = 0$."
   ]
  },
  {
   "cell_type": "markdown",
   "metadata": {},
   "source": [
    "(b) How does $p^\\star(\\epsilon)$ vary as a function of $\\epsilon$ around $\\epsilon=0$? Give an explicit expression for $p^\\star(\\epsilon)$."
   ]
  },
  {
   "cell_type": "markdown",
   "metadata": {},
   "source": [
    "(c) Also give an explicit expression for the primal and dual optimal solutions for values of\n",
    "$\\epsilon$ around $\\epsilon=0$."
   ]
  },
  {
   "cell_type": "markdown",
   "metadata": {},
   "source": [
    "*Hint:* The dual looks very similar to a primal LP in standard form."
   ]
  },
  {
   "cell_type": "markdown",
   "metadata": {},
   "source": [
    "# Q2 Chocolate manufacturing company {-}"
   ]
  },
  {
   "cell_type": "markdown",
   "metadata": {},
   "source": [
    "Consider a chocolate manufacturing company that produces three types of chocolate – A, B, and C. All three  chocolates require cocoa beans, sugar, milk. To manufacture each unit of A, B, and C, the following quantities are required:\n",
    "\n",
    "- Each unit of A requires 8 unit of cocoa beans, 4 unit of sugar,  2 unit of milk.\n",
    "- Each unit of B requires 6 unit of cocoa beans, 2 unit of sugar,  1.5 unit of milk.\n",
    "- Each unit of C requires 1 unit of cocoa beans, 1.5 unit of sugar,  0.5 unit of milk.\n",
    "\n",
    "The company has a total of 48 units of cocoa beans, 20 units of sugar, and 8 unit of milk. On each sale, the company makes a profit of\n",
    "\n",
    "- 60 per unit A sold.\n",
    "- 30 per unit B sold.\n",
    "- 20 pre unit C sold.\n",
    "\n",
    "Now the company wants to increase the supply of cocoa beans, sugar, and milk by $u = (t, t, 5t)$ units, which corresponds to $td$ where $d = (1, 1, 5)$. The company wished to maximize its profit after the supply increase."
   ]
  },
  {
   "cell_type": "markdown",
   "metadata": {},
   "source": [
    "(a) Define problem as LP."
   ]
  },
  {
   "cell_type": "markdown",
   "metadata": {},
   "source": [
    "(b) Solve the problem for various values of $t$ using cvxpy. You can set $t$ as a parameter as follows:\n",
    "\n",
    "```python\n",
    "x = cp.Variable(n)\n",
    "t = cp.Parameter()\n",
    "\n",
    "# Formulate problem ... \n",
    "# problem = cp.Problem(....)\n",
    "\n",
    "# Solve for all values of t\n",
    "t_values = np.linspace(-1, 1, 100)\n",
    "x_vector = []\n",
    "objective_vector = []\n",
    "for t_val in t_values:\n",
    "    t.value = t_val\n",
    "    problem.solve()\n",
    "    x_vector.append(x.value)\n",
    "    objective_vector.append(problem.objective.value)\n",
    "```"
   ]
  },
  {
   "cell_type": "markdown",
   "metadata": {},
   "source": [
    "(c) Plot the optimal value $p^\\star(td)$ and the lower bound defined around $p^\\star(0)$"
   ]
  },
  {
   "cell_type": "markdown",
   "metadata": {
    "id": "lIxZgyMj8_0W"
   },
   "source": [
    "# Q3 Network flow problem {-}"
   ]
  },
  {
   "cell_type": "markdown",
   "metadata": {
    "id": "83_OWJfB8_5Y"
   },
   "source": [
    "Consider the uncapacitated (i.e., no capacity constraints) network flow problem shown below. The label next to each arc is the cost of sending one unit of flow along that arc, and the label in each node is the number of units of supply available at each node (where less than zero corresponds to a demand). Your goal is to transport the goods from the suppliers to the consumers at minimum cost."
   ]
  },
  {
   "cell_type": "markdown",
   "metadata": {},
   "source": [
    "![title](uncapacitated.png)"
   ]
  },
  {
   "cell_type": "markdown",
   "metadata": {},
   "source": [
    "(a) formulate the uncapacitated network flow problem as network flow and give $A$ matrix."
   ]
  },
  {
   "cell_type": "markdown",
   "metadata": {},
   "source": [
    "(b) Solve it using cvxpy."
   ]
  }
 ],
 "metadata": {
  "colab": {
   "collapsed_sections": [],
   "name": "ORF307HW6.ipynb",
   "provenance": []
  },
  "kernelspec": {
   "display_name": "Python 3",
   "language": "python",
   "name": "python3"
  },
  "language_info": {
   "codemirror_mode": {
    "name": "ipython",
    "version": 3
   },
   "file_extension": ".py",
   "mimetype": "text/x-python",
   "name": "python",
   "nbconvert_exporter": "python",
   "pygments_lexer": "ipython3",
   "version": "3.7.9"
  },
  "latex_envs": {
   "LaTeX_envs_menu_present": true,
   "autoclose": false,
   "autocomplete": true,
   "bibliofile": "biblio.bib",
   "cite_by": "apalike",
   "current_citInitial": 1,
   "eqLabelWithNumbers": true,
   "eqNumInitial": 1,
   "hotkeys": {
    "equation": "Ctrl-E",
    "itemize": "Ctrl-I"
   },
   "labels_anchors": false,
   "latex_user_defs": false,
   "report_style_numbering": false,
   "user_envs_cfg": false
  },
  "toc": {
   "base_numbering": 1,
   "nav_menu": {},
   "number_sections": false,
   "sideBar": true,
   "skip_h1_title": false,
   "title_cell": "Table of Contents",
   "title_sidebar": "Contents",
   "toc_cell": false,
   "toc_position": {},
   "toc_section_display": true,
   "toc_window_display": false
  },
  "varInspector": {
   "cols": {
    "lenName": 16,
    "lenType": 16,
    "lenVar": 40
   },
   "kernels_config": {
    "python": {
     "delete_cmd_postfix": "",
     "delete_cmd_prefix": "del ",
     "library": "var_list.py",
     "varRefreshCmd": "print(var_dic_list())"
    },
    "r": {
     "delete_cmd_postfix": ") ",
     "delete_cmd_prefix": "rm(",
     "library": "var_list.r",
     "varRefreshCmd": "cat(var_dic_list()) "
    }
   },
   "types_to_exclude": [
    "module",
    "function",
    "builtin_function_or_method",
    "instance",
    "_Feature"
   ],
   "window_display": false
  }
 },
 "nbformat": 4,
 "nbformat_minor": 4
}
