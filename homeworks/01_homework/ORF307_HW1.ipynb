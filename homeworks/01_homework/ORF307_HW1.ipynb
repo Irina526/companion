{
 "cells": [
  {
   "cell_type": "markdown",
   "metadata": {
    "id": "RJ0Dp7-kSiV1"
   },
   "source": [
    "# ORF307 Homework 1\n",
    "Due: Friday, Feburary 12, 2021 9:00 pm ET\n",
    "\n",
    "- Please export your code with output as pdf.\n",
    "- If there is any additional answers, please combine them as **ONE** pdf file before submitting to the Gradescope."
   ]
  },
  {
   "cell_type": "markdown",
   "metadata": {
    "id": "-LQBYiSmSrYQ"
   },
   "source": [
    "# Q1 Interpolation of rational functions"
   ]
  },
  {
   "cell_type": "markdown",
   "metadata": {
    "id": "VwwFZ9GuSyV_"
   },
   "source": [
    "A rational function of degree two has the form $$f(t) = \\frac{c_1 + c_2 t + c_3 t^2}{1 + d_1 t + d_2 t^2}$$ where $c_1, c_2, c_3, d_1, d_2$ are coefficients.  (‘Rational’ refers to the fact that f is a ratio of polynomials. Another name for f is bi-quadratic.) Consider the interpolation conditions $$f(t_i) = y_i \\quad i=1,...,K$$  where $t_i$ and $y_i$ are given numbers. Express the interpolation conditions as a set of linear\n",
    "equations in the vector of coefficients $\\theta = (c_1, c_2, c_3, d_1, d_2)$, as $A \\theta = b$. Give $A$ and $b$, and\n",
    "their dimensions."
   ]
  },
  {
   "cell_type": "markdown",
   "metadata": {
    "id": "ZSCmF1KaS5Ll"
   },
   "source": [
    "# Q2 Python timing test for linear equations"
   ]
  },
  {
   "cell_type": "markdown",
   "metadata": {
    "id": "j3iMyVNWTCa3"
   },
   "source": [
    "(a) Determine how long it takes for your computer to solve a system of $n=2000$ linear equations in $n=2000$ variables (with invertible coefficient matrix) using the Python's inverse function.  You may use the following code to get you started.  \n",
    "\n",
    "```python\n",
    "import numpy as np\n",
    "import scipy.sparse.linalg as LA\n",
    "import time\n",
    "N = 3000\n",
    "A = 1 + np.random.normal(size=(N,N))\n",
    "b = np.ones(N)\n",
    "t0 = time.time()\n",
    "Ainv = np.linalg.inv(A)\n",
    "### some other operation to solve the system\n",
    "t1 = time.time()\n",
    "print('time to solve (a):', t1 - t0)\n",
    "```\n",
    "\n",
    "(b) Python is rather clever about how it solves linear systems.  Use the following function to solve the same linear system and determine how long it takes your computer to solve it.  Verify that you get the same solution as from part (a).\n",
    "```python\n",
    "x = np.linalg.solve(A,b)\n",
    "```\n",
    "\n",
    "(c) Now, solve the following linear system with matrix $L$ and vector $b$ using the following scipy function.  Determine how long it takes your computer to solve it.  Use the code below to set up this system.\n",
    "```python\n",
    "L = 1 + np.random.normal(size=(N,N))\n",
    "for i in range(N):\n",
    "    for j in range(i+1, N):\n",
    "      L[i,j] = 0\n",
    "b = np.ones(N)\n",
    "x = LA.spsolve_triangular(L, b)\n",
    "```\n",
    "\n",
    "(d) Can you explain why the times differ by so much between parts (a) and (b)?  \n",
    "\n",
    "(e) Can you explain why the times differ by so much between parts (b) and (c) i.e. what is special about matrix $L$ compared to matrix $A$?\n"
   ]
  },
  {
   "cell_type": "markdown",
   "metadata": {
    "id": "bg-KQguATHxF"
   },
   "source": [
    "# Q3 State feedback control"
   ]
  },
  {
   "cell_type": "markdown",
   "metadata": {
    "id": "wrjMlwKVJzqi"
   },
   "source": [
    "Consider a time-invariant linear dynamical system with $n$-vector state $x_t$\n",
    "and $m$-vector input $u_t$\n",
    ", with dynamics\n",
    "$x_{t+1} = A x_t + B u_t$\n",
    ", $t = 1, 2, . . . .$\n",
    "The entries of the state often represent deviations of $n$ quantities from their desired values, so $x_t \\approx 0$ is a goal in operation of the system. The entries of the input ut are deviations from the\n",
    "standard or nominal values. For example, in an aircraft model, the states might be the deviation\n",
    "from the desired altitude, climb rate, speed, and angle of attack; the input $u_t$ represents changes\n",
    "in the control surface angles or engine thrust from their normal values.\n",
    "In state feedback control, the states are measured and the input is a linear function of the state,\n",
    "$u_t = K x_t$\n",
    ". The $m$ x $n$ matrix $K$ is called the state feedback gain matrix. The state feedback gain\n",
    "matrix is very carefully designed, using several methods. State feedback control is very widely used\n",
    "in many application areas (including, for example, control of airplanes)."
   ]
  },
  {
   "cell_type": "markdown",
   "metadata": {
    "id": "HJCU_N5aLNyI"
   },
   "source": [
    "(a) *Open and closed-loop dynamical system.* With $u_t = 0$, the system satisfies $x_{t+1} = A x_t$ for\n",
    "$t = 1, 2, . . .$, which is called the open-loop dynamics. When $u_t = K x_t$\n",
    ", the system dynamics\n",
    "can be expressed as $x_{t+1} = \\tilde{A} x_t$\n",
    ", for $t = 1, 2, . . .$, where the n × n matrix $\\tilde{A}$ is the closed-loop\n",
    "dynamics matrix. Find an expression for $\\tilde{A}$ in terms of $A$, $B$, and $K$."
   ]
  },
  {
   "cell_type": "markdown",
   "metadata": {
    "id": "gOhmDn9_MIcy"
   },
   "source": [
    "(b) *Aircraft control.* The longitudinal dynamics of a 747 flying at 40000 ft at Mach 0.81 is given\n",
    "by\n",
    "\n",
    "$$ A = \\pmatrix{.99 & .03 & -.02 & -.32 \\\\\n",
    ".01 & .47 & 4.7 & 0 \\\\\n",
    ".02 & -.06 & .4 & 0 \\\\\n",
    ".01 & -.04 & .72 & .99 \\\\\n",
    "}$$\n",
    "\n",
    "$$ B = \\pmatrix{.01 & .99 \\\\\n",
    "-3.44 & 1.66 \\\\\n",
    "-.83 & .44 \\\\\n",
    "-.47 & .25 \\\\\n",
    "}$$\n",
    "\n",
    "where the sampling time is one second. We will use the state feedback matrix\n",
    "\n",
    "$$ K = \\pmatrix{-.038 & .021 & .319 & -.27 \\\\\n",
    "-.061 & -.004 & -.12 & .007 \\\\\n",
    "}$$\n",
    "\n",
    "(The python matrices A, B, and K can be found below, so you don’t have\n",
    "to type them in.) Plot the open-loop and closed-loop state trajectories from several nonzero\n",
    "initial states, such as $x_1 = \\pmatrix{1 & 0 & 0 & 0}$, or ones that are randomly generated, from $t = 1$ to\n",
    "$t = 100$. (In other words, plot $(x_t)_i$ versus $t$, for $i = 1, 2, 3, 4$.) Would you rather be a\n",
    "passenger in the plane with the state feedback control turned off (i.e., open-loop) or on (i.e.,\n",
    "closed-loop)?"
   ]
  },
  {
   "cell_type": "markdown",
   "metadata": {
    "id": "aLltKZMGPIkE"
   },
   "source": [
    "```python\n",
    "A = np.array([[.99, .03, -.02, -.32], [.01, .47, 4.7, 0], [.02, -.06, .4, 0], [.01, -.04, .72, .99]])\n",
    "B = np.array([[.01, .99], [-3.44, 1.66], [-.83, .44], [-.47, .25]])\n",
    "K = np.array([[-.038, .021, .319, -.27], [-.061, -.004, -.12, .007]])\n",
    "```"
   ]
  },
  {
   "cell_type": "markdown",
   "metadata": {
    "id": "sUNwapIFTJKg"
   },
   "source": [
    "# Q4\r\n",
    "Suppse $x$ and $y$ are Boolean feature vectors, *i.e.*, each entry is either 0 or 1, that encode the presence of symptoms in patients Alice and Bob. Which of the following are true statements?"
   ]
  },
  {
   "cell_type": "markdown",
   "metadata": {
    "id": "XvumF5dDWnhf"
   },
   "source": [
    "(a) $x ^\\intercal y$ is number of symptoms Alice and Bob have in common"
   ]
  },
  {
   "cell_type": "markdown",
   "metadata": {
    "id": "db8CrDVxYvo2"
   },
   "source": [
    "(b) $\\| x \\| ^2$ is the number of symptoms Alice has "
   ]
  },
  {
   "cell_type": "markdown",
   "metadata": {
    "id": "UGyngogkZm-n"
   },
   "source": [
    "(c) $\\mathbf{1}^\\intercal y$ is number of symptoms Bob has"
   ]
  },
  {
   "cell_type": "markdown",
   "metadata": {
    "id": "Ykqmp8FhZnIi"
   },
   "source": [
    "(d) $\\|x-y\\|^2$ is number of symptoms Alice has but Bob does not"
   ]
  },
  {
   "cell_type": "markdown",
   "metadata": {
    "id": "6YRS5TOXZnOU"
   },
   "source": [
    "(e) $\\mathbf{1}^\\intercal (x-y)$ is the number of symptoms Alice has but Bob does not"
   ]
  },
  {
   "cell_type": "markdown",
   "metadata": {
    "id": "qM-sOumJZnTQ"
   },
   "source": [
    "(f) $x \\perp y$ means that Alice and Bob do not share any symptoms"
   ]
  }
 ],
 "metadata": {
  "colab": {
   "name": "ORF307_HW1.ipynb",
   "provenance": []
  },
  "kernelspec": {
   "display_name": "Python 3",
   "language": "python",
   "name": "python3"
  },
  "language_info": {
   "codemirror_mode": {
    "name": "ipython",
    "version": 3
   },
   "file_extension": ".py",
   "mimetype": "text/x-python",
   "name": "python",
   "nbconvert_exporter": "python",
   "pygments_lexer": "ipython3",
   "version": "3.9.1"
  }
 },
 "nbformat": 4,
 "nbformat_minor": 4
}
