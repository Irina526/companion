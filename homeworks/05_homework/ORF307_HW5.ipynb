{
 "cells": [
  {
   "cell_type": "markdown",
   "metadata": {
    "id": "mrxF80Yvt-sy"
   },
   "source": [
    "# ORF307 Homework 5 {-}\n",
    "Due: Friday, March 26, 2021 9:00 pm ET\n",
    "\n",
    "- Please export your code with output as pdf.\n",
    "- If there is any additional answers, please combine them as **ONE** pdf file before submitting to the Gradescope."
   ]
  },
  {
   "cell_type": "markdown",
   "metadata": {
    "id": "PYOqVdFYuP4b"
   },
   "source": [
    "# Q1 Finding a direction in simplex {-}"
   ]
  },
  {
   "cell_type": "markdown",
   "metadata": {
    "id": "XTTvI3Mruo5I"
   },
   "source": [
    "Let $P = \\{x \\in \\mathbf{R}^3 \\mid 2x_1 + 3x_2 + x_3 = 1, x \\geq 0\\}$ and consider the vector $x = (0, 0, 1)$.  Let the cost vector be $c = (1, -1, 2)$.  Find the set of basic directions at $x$ that improve the cost.  It is a minimization problem, so we want to decrease the cost."
   ]
  },
  {
   "cell_type": "markdown",
   "metadata": {
    "id": "EmKrZpHIuL6g"
   },
   "source": [
    "# Q2 Extreme points and basic feasible solutions {-}"
   ]
  },
  {
   "cell_type": "markdown",
   "metadata": {},
   "source": [
    "Let $P = \\{x \\in \\mathbf{R}^5 \\mid Ax = b, x \\geq 0\\}$ where \n",
    "$$A = \\begin{bmatrix}\n",
    "0 & 1 & 1 & 1 & -2 \\\\\n",
    "0 & -1 & 1 & -1 & 0 \\\\\n",
    "2 & 0 & 1 & 0 & -1\n",
    "\\end{bmatrix},\\quad \\mbox{and}\\quad b = (1, 1, 1).$$"
   ]
  },
  {
   "cell_type": "markdown",
   "metadata": {
    "id": "3So4ThuDwxeV"
   },
   "source": [
    "(a) Given the following $3$ vectors\n",
    "\n",
    "i. $\\hat{x} = (0, 0, 1, 0, 0)$ \n",
    "\n",
    "ii. $\\hat{x} = (0, 0, 1, 1, 1)$\n",
    "\n",
    "iii. $\\hat{x} = (0, 0, 0, -1, -1)$\n",
    "\n",
    "list which ones are in $P$, which ones are basic solutions, and which ones are degenerate.\n"
   ]
  },
  {
   "cell_type": "markdown",
   "metadata": {
    "id": "Yy0CIw50xOG5"
   },
   "source": [
    "(b)  If they are basic feasible solutions are they extreme points?  If yes, give a vector $c$ for which $\\hat{x}$ is the unique solution of \n",
    "$$\n",
    "\\begin{array}{ll} \\mbox{minimize} & c^T x \\\\ \n",
    "\\mbox{subject to} & Ax = b \\\\\n",
    "& x \\geq 0 \\\\\n",
    "\\end{array}\n",
    "$$"
   ]
  },
  {
   "cell_type": "code",
   "execution_count": 4,
   "metadata": {},
   "outputs": [],
   "source": [
    "'''\n",
    "This code is provided to help with questions 3 and 4\n",
    "'''\n",
    "\n",
    "import numpy as np\n",
    "import numpy.linalg as la\n",
    "\n",
    "def simplex_iteration(x, B, problem):\n",
    "    \"\"\"Perform one simplex iteration given \n",
    "    - basic feasible solution x\n",
    "    - basis B\n",
    "    \n",
    "    It returns new x, new basis and termination flag (true/false)\n",
    "    \"\"\"\n",
    "    A, b, c = problem['A'], problem['b'], problem['c']\n",
    "    m, n = A.shape\n",
    "    A_B = A[:, B]\n",
    "    \n",
    "    # Compute reduced cost vector\n",
    "    p = la.solve(A_B.T, c[B])\n",
    "    c_bar = c - A.T @ p\n",
    "    \n",
    "    # Check optimality\n",
    "    if np.all(c_bar >= 0):\n",
    "        print(\"Optimal solution found!\")\n",
    "        return x, B, True\n",
    "\n",
    "    # Choose j such that c_bar < 0 (first one)\n",
    "    j = np.where(c_bar < 0)[0][0]\n",
    "    \n",
    "    # Compute search direction d\n",
    "    d = np.zeros(n)\n",
    "    d[j] = 1\n",
    "    d[B] = la.solve(A_B, -A[:, j])\n",
    "    \n",
    "    # Check for unboundedness\n",
    "    if np.all(d >= 0):\n",
    "        print(\"Unbounded problem!\")\n",
    "        return None, None, True\n",
    "        \n",
    "    # Compute step length theta\n",
    "    d_i = np.where(d[B] < 0)[0]\n",
    "    theta = np.min(- x[B[d_i]] / d[B[d_i]])\n",
    "    i = B[d_i[np.argmin(- x[B[d_i]] / d[B[d_i]])]]\n",
    "    \n",
    "    # Compute next point\n",
    "    x_next = x + theta * d\n",
    "    \n",
    "    # Compute next basis\n",
    "    B_next = B\n",
    "    B_next[np.where(B == i)[0]] = j\n",
    "  \n",
    "    return x_next, B_next, False\n",
    "\n",
    "def simplex_algorithm(x, B, problem, max_iter=1000):\n",
    "    \"\"\"Run simplex algorithm\"\"\"\n",
    "\n",
    "    for k in range(max_iter):\n",
    "            \n",
    "        x, B, end = simplex_iteration(x, B, problem)\n",
    "        \n",
    "        if end:\n",
    "            break\n",
    "    return x, B"
   ]
  },
  {
   "cell_type": "markdown",
   "metadata": {
    "id": "Ryap1rgPuOMr"
   },
   "source": [
    "# Q3 Simplex iterations {-}"
   ]
  },
  {
   "cell_type": "markdown",
   "metadata": {
    "id": "fK3fyaz42GLT"
   },
   "source": [
    "Solve the following optimization problem using the simplex method. At each iteration, record the indices in the basis, $x$, the reduced costs $\\bar{c}$, the new feasible direction $d$, and step length $\\theta^\\star$.  Any method to come up with a starting basic feasible solution is ok.\n",
    "\n",
    "$$\n",
    "\\begin{array}{ll} \\mbox{minimize} & 6x_1 + 8x_2 + 5x_3 + 9x_4 \\\\ \n",
    "\\mbox{subject to} & 2x_1 + x_2 + x_3 + 3x_4 = 5 \\\\\n",
    "& x_1 + 3x_2 + x_3 + 2x_4 = 3 \\\\\n",
    "& x \\geq 0\n",
    "\\end{array}\n",
    "$$"
   ]
  },
  {
   "cell_type": "markdown",
   "metadata": {
    "id": "-KzfalfYuNDd"
   },
   "source": [
    "# Q4 Phase I/II Simplex {-}"
   ]
  },
  {
   "cell_type": "markdown",
   "metadata": {
    "id": "xDGQ9JI85J_E"
   },
   "source": [
    "(a) Use the simplex algorithm to solve the phase I problem to find an initial basic feasible solution for the following linear program.  \n",
    "\n",
    "$$\n",
    "\\begin{array}{ll} \\mbox{minimize} & x_1 + 2x_2 + 4x_3 + 8x_4 - x_5 \\\\ \n",
    "\\mbox{subject to} & x_1 + 2x_2 + 3x_3 + 4x_4 + 5x_5 = 2 \\\\\n",
    "& 7x_1 + 5x_2 - 3x_3 - 2x_4 = 3 \\\\\n",
    "& x \\geq 0\n",
    "\\end{array}\n",
    "$$"
   ]
  },
  {
   "cell_type": "markdown",
   "metadata": {
    "id": "n_PiG56m1R8n"
   },
   "source": [
    "(b) Verify that the linear program is feasible and that the outcome of part (a) yields a basic feasible solution.  Record the basis returned from the phase I problem."
   ]
  },
  {
   "cell_type": "markdown",
   "metadata": {
    "id": "OEi840U_1Sx7"
   },
   "source": [
    "(c) Use the simplex algorithm to find the solution to the linear program."
   ]
  },
  {
   "cell_type": "markdown",
   "metadata": {},
   "source": [
    "*Note:* We have provided functions `simplex_iteration` and `simplex algorithm` to perform simplex iterations, as explained in class."
   ]
  }
 ],
 "metadata": {
  "colab": {
   "collapsed_sections": [],
   "name": "ORF307_HW5.ipynb",
   "provenance": []
  },
  "kernelspec": {
   "display_name": "Python 3",
   "language": "python",
   "name": "python3"
  },
  "language_info": {
   "codemirror_mode": {
    "name": "ipython",
    "version": 3
   },
   "file_extension": ".py",
   "mimetype": "text/x-python",
   "name": "python",
   "nbconvert_exporter": "python",
   "pygments_lexer": "ipython3",
   "version": "3.6.5"
  }
 },
 "nbformat": 4,
 "nbformat_minor": 4
}
